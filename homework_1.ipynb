{
 "cells": [
  {
   "cell_type": "code",
   "execution_count": null,
   "metadata": {},
   "outputs": [],
   "source": [
    "import snap\n",
    "import numpy as np\n",
    "import pandas as pd\n",
    "import wget\n",
    "import os\n",
    "import gzip\n",
    "from graphviz import Graph\n",
    "from graphviz import Source\n",
    "import matplotlib.pyplot as plt"
   ]
  },
  {
   "cell_type": "code",
   "execution_count": null,
   "metadata": {},
   "outputs": [],
   "source": [
    "def gz_data_loader(data_url):\n",
    "    file_to_load = wget.download(data_url)\n",
    "    filename = os.path.splitext(os.path.basename(data_url))[0]\n",
    "    os.replace(file_to_load, os.path.join('input', file_to_load))\n",
    "\n",
    "    with gzip.open(os.path.join('input', file_to_load), 'rb') as f:\n",
    "        f_in = f.read()\n",
    "        with open(os.path.join('input', filename), 'wb') as f_out:\n",
    "            f_out.write(f_in)\n",
    "            print('\\n{} loaded and unpacked'.format(os.path.basename(data_url)))"
   ]
  },
  {
   "cell_type": "markdown",
   "metadata": {},
   "source": [
    "![images/006.png](images/006.png)\n",
    "\n",
    "![images/007.png](images/007.png)\n",
    "\n",
    "![images/008.png](images/008.png)"
   ]
  },
  {
   "cell_type": "markdown",
   "metadata": {},
   "source": [
    "- [ ] Erd}os-Renyi Random graph (G(n;m) random network)\n",
    "- [ ] Small-World Random Network\n",
    "- [ ] Real-World Collaboration Network:"
   ]
  },
  {
   "cell_type": "code",
   "execution_count": null,
   "metadata": {},
   "outputs": [],
   "source": []
  }
 ],
 "metadata": {
  "kernelspec": {
   "display_name": "Python 3",
   "language": "python",
   "name": "python3"
  },
  "language_info": {
   "codemirror_mode": {
    "name": "ipython",
    "version": 3
   },
   "file_extension": ".py",
   "mimetype": "text/x-python",
   "name": "python",
   "nbconvert_exporter": "python",
   "pygments_lexer": "ipython3",
   "version": "3.7.2"
  },
  "varInspector": {
   "cols": {
    "lenName": 16,
    "lenType": 16,
    "lenVar": 40
   },
   "kernels_config": {
    "python": {
     "delete_cmd_postfix": "",
     "delete_cmd_prefix": "del ",
     "library": "var_list.py",
     "varRefreshCmd": "print(var_dic_list())"
    },
    "r": {
     "delete_cmd_postfix": ") ",
     "delete_cmd_prefix": "rm(",
     "library": "var_list.r",
     "varRefreshCmd": "cat(var_dic_list()) "
    }
   },
   "types_to_exclude": [
    "module",
    "function",
    "builtin_function_or_method",
    "instance",
    "_Feature"
   ],
   "window_display": false
  }
 },
 "nbformat": 4,
 "nbformat_minor": 2
}

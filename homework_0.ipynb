{
 "cells": [
  {
   "cell_type": "code",
   "execution_count": 37,
   "metadata": {},
   "outputs": [],
   "source": [
    "import snap\n",
    "import numpy as np\n",
    "import pandas as pd\n",
    "import wget\n",
    "import os\n",
    "import gzip\n",
    "from graphviz import Graph\n",
    "from graphviz import Source\n",
    "import matplotlib.pyplot as plt"
   ]
  },
  {
   "cell_type": "code",
   "execution_count": 2,
   "metadata": {},
   "outputs": [],
   "source": [
    "def gz_data_loader(data_url):\n",
    "    file_to_load = wget.download(data_url)\n",
    "    filename = os.path.splitext(os.path.basename(data_url))[0]\n",
    "    os.replace(file_to_load, os.path.join('input', file_to_load))\n",
    "\n",
    "    with gzip.open(os.path.join('input', file_to_load), 'rb') as f:\n",
    "        f_in = f.read()\n",
    "        with open(os.path.join('input', filename), 'wb') as f_out:\n",
    "            f_out.write(f_in)\n",
    "            print('\\n{} loaded and unpacked'.format(os.path.basename(data_url)))"
   ]
  },
  {
   "cell_type": "markdown",
   "metadata": {},
   "source": [
    "1 Analyzing the Wikipedia voters network [27 points]\n",
    "\n",
    "Download the Wikipedia voting network wiki-Vote.txt.gz: [ссылка](http://snap.stanford.edu/data/wiki-Vote.html)\n",
    "\n",
    "![images/001.png](images/001.png)\n",
    "\n",
    "![images/002.png](images/002.png)\n",
    "\n",
    "2 Further Analyzing the Wikipedia voters network [33 points]\n",
    "\n",
    "For this problem, we use the Wikipedia voters network. If you are using Python, you might\n",
    "want to use NumPy, SciPy, and/or Matplotlib libraries.\n",
    "\n",
    "![images/003.png](images/003.png)\n",
    "\n",
    "3 Finding Experts on the Java Programming Language on StackOverow [40 points]\n",
    "\n",
    "Download the StackOverow network stackoverflow-Java.txt.gz: [ссылка](http://snap.stanford.edu/class/cs224w-data/hw0/stackoverflow-Java.txt.gz). An edge (a, b) in the network\n",
    "means that person a endorsed an answer from person b on a Java-related question.\n",
    "\n",
    "![images/004.png](images/004.png)\n",
    "\n",
    "![images/005.png](images/005.png)\n",
    "\n",
    "You can find more details about this exercise on the Snap.py tutorial page: [тут](http://snap.stanford.edu/proj/snap-icwsm/). As an extra exercise, extend the tutorial to find experts in other program-\n",
    "ming languages or topics."
   ]
  },
  {
   "cell_type": "markdown",
   "metadata": {},
   "source": [
    "# Analyzing the Wikipedia voters network"
   ]
  },
  {
   "cell_type": "markdown",
   "metadata": {},
   "source": [
    "- [x] The number of nodes in the network.\n",
    "- [x] The number of nodes with a self-edge (self-loop)\n",
    "- [x] The number of directed edges in the network\n",
    "- [x] The number of undirected edges in the network\n",
    "- [x] The number of reciprocated edges in the network\n",
    "- [x] The number of nodes of zero out-degree\n",
    "- [x] The number of nodes of zero in-degree\n",
    "- [x] The number of nodes with more than 10 outgoing edges (out-degree > 10)\n",
    "- [x] The number of nodes with fewer than 10 incoming edges (in-degree < 10)"
   ]
  },
  {
   "cell_type": "code",
   "execution_count": 3,
   "metadata": {},
   "outputs": [
    {
     "name": "stdout",
     "output_type": "stream",
     "text": [
      "100% [............................................................................] 290339 / 290339\n",
      "wiki-Vote.txt.gz loaded and unpacked\n"
     ]
    }
   ],
   "source": [
    "gz_data_loader('http://snap.stanford.edu/data/wiki-Vote.txt.gz')"
   ]
  },
  {
   "cell_type": "code",
   "execution_count": 4,
   "metadata": {},
   "outputs": [],
   "source": [
    "G_wiki_vote = snap.LoadEdgeList(snap.PNGraph, \"input/wiki-Vote.txt\", 0, 1)"
   ]
  },
  {
   "cell_type": "code",
   "execution_count": 5,
   "metadata": {},
   "outputs": [],
   "source": [
    "snap.PrintInfo(G_wiki_vote, \"Standart statistcs\")"
   ]
  },
  {
   "cell_type": "code",
   "execution_count": 6,
   "metadata": {},
   "outputs": [
    {
     "data": {
      "text/plain": [
       "7115"
      ]
     },
     "execution_count": 6,
     "metadata": {},
     "output_type": "execute_result"
    }
   ],
   "source": [
    "# The number of nodes in the network (with degree greater than 0)\n",
    "snap.CntNonZNodes(G_wiki_vote)"
   ]
  },
  {
   "cell_type": "code",
   "execution_count": 7,
   "metadata": {},
   "outputs": [
    {
     "name": "stdout",
     "output_type": "stream",
     "text": [
      "7115\n"
     ]
    }
   ],
   "source": [
    "# by iteratuon\n",
    "node_summary = 0\n",
    "for node in G_wiki_vote.Nodes():\n",
    "    node_summary += 1\n",
    "print(node_summary)"
   ]
  },
  {
   "cell_type": "code",
   "execution_count": 8,
   "metadata": {},
   "outputs": [
    {
     "data": {
      "text/plain": [
       "0"
      ]
     },
     "execution_count": 8,
     "metadata": {},
     "output_type": "execute_result"
    }
   ],
   "source": [
    "# The number of nodes with a self-edge (self-loop)\n",
    "snap.CntSelfEdges(G_wiki_vote)"
   ]
  },
  {
   "cell_type": "code",
   "execution_count": 9,
   "metadata": {},
   "outputs": [
    {
     "data": {
      "text/plain": [
       "103689"
      ]
     },
     "execution_count": 9,
     "metadata": {},
     "output_type": "execute_result"
    }
   ],
   "source": [
    "# The number of directed edges in the network (unic!!!)\n",
    "snap.CntUniqDirEdges(G_wiki_vote)"
   ]
  },
  {
   "cell_type": "code",
   "execution_count": 10,
   "metadata": {},
   "outputs": [
    {
     "data": {
      "text/plain": [
       "100762"
      ]
     },
     "execution_count": 10,
     "metadata": {},
     "output_type": "execute_result"
    }
   ],
   "source": [
    "# The number of undirected edges in the network (unic!!!)\n",
    "snap.CntUniqUndirEdges(G_wiki_vote)"
   ]
  },
  {
   "cell_type": "code",
   "execution_count": 11,
   "metadata": {},
   "outputs": [
    {
     "data": {
      "text/plain": [
       "2927"
      ]
     },
     "execution_count": 11,
     "metadata": {},
     "output_type": "execute_result"
    }
   ],
   "source": [
    "# The number of reciprocated edges in the network (unic bidirectinal!!!)\n",
    "snap.CntUniqBiDirEdges(G_wiki_vote)"
   ]
  },
  {
   "cell_type": "code",
   "execution_count": 12,
   "metadata": {},
   "outputs": [
    {
     "data": {
      "text/plain": [
       "1005"
      ]
     },
     "execution_count": 12,
     "metadata": {},
     "output_type": "execute_result"
    }
   ],
   "source": [
    "# The number of nodes of zero out-degree\n",
    "snap.CntOutDegNodes(G_wiki_vote, 0)"
   ]
  },
  {
   "cell_type": "code",
   "execution_count": 13,
   "metadata": {},
   "outputs": [
    {
     "data": {
      "text/plain": [
       "4734"
      ]
     },
     "execution_count": 13,
     "metadata": {},
     "output_type": "execute_result"
    }
   ],
   "source": [
    "# The number of nodes of zero in-degree\n",
    "snap.CntInDegNodes(G_wiki_vote, 0)"
   ]
  },
  {
   "cell_type": "code",
   "execution_count": 14,
   "metadata": {},
   "outputs": [
    {
     "name": "stdout",
     "output_type": "stream",
     "text": [
      "Out-degree > 10 has 1612 nodes, in-degree < 10 has 4346 nodes\n"
     ]
    }
   ],
   "source": [
    "# The number of nodes with more than 10 outgoing edges (out-degree > 10)\n",
    "# The number of nodes with fewer than 10 incoming edges (in-degree < 10)\n",
    "node_more_10_out = 0\n",
    "node_less_10_in = 0\n",
    "for node in G_wiki_vote.Nodes():\n",
    "    if node.GetOutDeg() > 10:\n",
    "        node_more_10_out += 1\n",
    "    elif node.GetInDeg() < 10:\n",
    "        node_less_10_in += 1\n",
    "print('Out-degree > 10 has {} nodes, in-degree < 10 has {} nodes'.format(node_more_10_out, node_less_10_in))"
   ]
  },
  {
   "cell_type": "markdown",
   "metadata": {},
   "source": [
    "# Further Analyzing the Wikipedia voters network"
   ]
  },
  {
   "cell_type": "markdown",
   "metadata": {},
   "source": [
    "- [x] Plot the distribution of out-degrees of nodes in the network on a log-log scale\n",
    "- [x] Compute and plot the least-square regression line for the out-degree distribution in the log-log scale plot"
   ]
  },
  {
   "cell_type": "code",
   "execution_count": 27,
   "metadata": {},
   "outputs": [],
   "source": [
    "# name of output cant contain path\n",
    "snap.PlotOutDegDistr(G_wiki_vote, \n",
    "                     \"wiki-Vote-distribution-of-out-degrees\", \n",
    "                     \"The distribution of out-degrees of nodes in the network for a log-log scale visualisation\")"
   ]
  },
  {
   "cell_type": "code",
   "execution_count": 48,
   "metadata": {},
   "outputs": [],
   "source": [
    "with open(\"outDeg.wiki-Vote-distribution-of-out-degrees.tab\") as tabed:\n",
    "    to_pd = pd.read_table(tabed, skiprows=[0,1,2])"
   ]
  },
  {
   "cell_type": "code",
   "execution_count": 96,
   "metadata": {},
   "outputs": [
    {
     "data": {
      "text/html": [
       "<div>\n",
       "<style scoped>\n",
       "    .dataframe tbody tr th:only-of-type {\n",
       "        vertical-align: middle;\n",
       "    }\n",
       "\n",
       "    .dataframe tbody tr th {\n",
       "        vertical-align: top;\n",
       "    }\n",
       "\n",
       "    .dataframe thead th {\n",
       "        text-align: right;\n",
       "    }\n",
       "</style>\n",
       "<table border=\"1\" class=\"dataframe\">\n",
       "  <thead>\n",
       "    <tr style=\"text-align: right;\">\n",
       "      <th></th>\n",
       "      <th># Out-degree</th>\n",
       "      <th>Count</th>\n",
       "    </tr>\n",
       "  </thead>\n",
       "  <tbody>\n",
       "    <tr>\n",
       "      <th>0</th>\n",
       "      <td>0</td>\n",
       "      <td>1005</td>\n",
       "    </tr>\n",
       "    <tr>\n",
       "      <th>1</th>\n",
       "      <td>1</td>\n",
       "      <td>2382</td>\n",
       "    </tr>\n",
       "    <tr>\n",
       "      <th>2</th>\n",
       "      <td>2</td>\n",
       "      <td>704</td>\n",
       "    </tr>\n",
       "    <tr>\n",
       "      <th>3</th>\n",
       "      <td>3</td>\n",
       "      <td>401</td>\n",
       "    </tr>\n",
       "    <tr>\n",
       "      <th>4</th>\n",
       "      <td>4</td>\n",
       "      <td>279</td>\n",
       "    </tr>\n",
       "    <tr>\n",
       "      <th>5</th>\n",
       "      <td>5</td>\n",
       "      <td>162</td>\n",
       "    </tr>\n",
       "    <tr>\n",
       "      <th>6</th>\n",
       "      <td>6</td>\n",
       "      <td>159</td>\n",
       "    </tr>\n",
       "    <tr>\n",
       "      <th>7</th>\n",
       "      <td>7</td>\n",
       "      <td>131</td>\n",
       "    </tr>\n",
       "    <tr>\n",
       "      <th>8</th>\n",
       "      <td>8</td>\n",
       "      <td>110</td>\n",
       "    </tr>\n",
       "    <tr>\n",
       "      <th>9</th>\n",
       "      <td>9</td>\n",
       "      <td>91</td>\n",
       "    </tr>\n",
       "    <tr>\n",
       "      <th>10</th>\n",
       "      <td>10</td>\n",
       "      <td>79</td>\n",
       "    </tr>\n",
       "    <tr>\n",
       "      <th>11</th>\n",
       "      <td>11</td>\n",
       "      <td>75</td>\n",
       "    </tr>\n",
       "    <tr>\n",
       "      <th>12</th>\n",
       "      <td>12</td>\n",
       "      <td>68</td>\n",
       "    </tr>\n",
       "    <tr>\n",
       "      <th>13</th>\n",
       "      <td>13</td>\n",
       "      <td>61</td>\n",
       "    </tr>\n",
       "    <tr>\n",
       "      <th>14</th>\n",
       "      <td>14</td>\n",
       "      <td>56</td>\n",
       "    </tr>\n",
       "    <tr>\n",
       "      <th>15</th>\n",
       "      <td>15</td>\n",
       "      <td>57</td>\n",
       "    </tr>\n",
       "    <tr>\n",
       "      <th>16</th>\n",
       "      <td>16</td>\n",
       "      <td>48</td>\n",
       "    </tr>\n",
       "    <tr>\n",
       "      <th>17</th>\n",
       "      <td>17</td>\n",
       "      <td>32</td>\n",
       "    </tr>\n",
       "    <tr>\n",
       "      <th>18</th>\n",
       "      <td>18</td>\n",
       "      <td>44</td>\n",
       "    </tr>\n",
       "    <tr>\n",
       "      <th>19</th>\n",
       "      <td>19</td>\n",
       "      <td>40</td>\n",
       "    </tr>\n",
       "    <tr>\n",
       "      <th>20</th>\n",
       "      <td>20</td>\n",
       "      <td>32</td>\n",
       "    </tr>\n",
       "    <tr>\n",
       "      <th>21</th>\n",
       "      <td>21</td>\n",
       "      <td>31</td>\n",
       "    </tr>\n",
       "    <tr>\n",
       "      <th>22</th>\n",
       "      <td>22</td>\n",
       "      <td>30</td>\n",
       "    </tr>\n",
       "    <tr>\n",
       "      <th>23</th>\n",
       "      <td>23</td>\n",
       "      <td>23</td>\n",
       "    </tr>\n",
       "    <tr>\n",
       "      <th>24</th>\n",
       "      <td>24</td>\n",
       "      <td>29</td>\n",
       "    </tr>\n",
       "    <tr>\n",
       "      <th>25</th>\n",
       "      <td>25</td>\n",
       "      <td>19</td>\n",
       "    </tr>\n",
       "    <tr>\n",
       "      <th>26</th>\n",
       "      <td>26</td>\n",
       "      <td>24</td>\n",
       "    </tr>\n",
       "    <tr>\n",
       "      <th>27</th>\n",
       "      <td>27</td>\n",
       "      <td>20</td>\n",
       "    </tr>\n",
       "    <tr>\n",
       "      <th>28</th>\n",
       "      <td>28</td>\n",
       "      <td>25</td>\n",
       "    </tr>\n",
       "    <tr>\n",
       "      <th>29</th>\n",
       "      <td>29</td>\n",
       "      <td>28</td>\n",
       "    </tr>\n",
       "    <tr>\n",
       "      <th>...</th>\n",
       "      <td>...</td>\n",
       "      <td>...</td>\n",
       "    </tr>\n",
       "    <tr>\n",
       "      <th>208</th>\n",
       "      <td>290</td>\n",
       "      <td>1</td>\n",
       "    </tr>\n",
       "    <tr>\n",
       "      <th>209</th>\n",
       "      <td>292</td>\n",
       "      <td>1</td>\n",
       "    </tr>\n",
       "    <tr>\n",
       "      <th>210</th>\n",
       "      <td>297</td>\n",
       "      <td>1</td>\n",
       "    </tr>\n",
       "    <tr>\n",
       "      <th>211</th>\n",
       "      <td>302</td>\n",
       "      <td>1</td>\n",
       "    </tr>\n",
       "    <tr>\n",
       "      <th>212</th>\n",
       "      <td>305</td>\n",
       "      <td>1</td>\n",
       "    </tr>\n",
       "    <tr>\n",
       "      <th>213</th>\n",
       "      <td>307</td>\n",
       "      <td>1</td>\n",
       "    </tr>\n",
       "    <tr>\n",
       "      <th>214</th>\n",
       "      <td>309</td>\n",
       "      <td>1</td>\n",
       "    </tr>\n",
       "    <tr>\n",
       "      <th>215</th>\n",
       "      <td>312</td>\n",
       "      <td>1</td>\n",
       "    </tr>\n",
       "    <tr>\n",
       "      <th>216</th>\n",
       "      <td>314</td>\n",
       "      <td>1</td>\n",
       "    </tr>\n",
       "    <tr>\n",
       "      <th>217</th>\n",
       "      <td>317</td>\n",
       "      <td>1</td>\n",
       "    </tr>\n",
       "    <tr>\n",
       "      <th>218</th>\n",
       "      <td>319</td>\n",
       "      <td>1</td>\n",
       "    </tr>\n",
       "    <tr>\n",
       "      <th>219</th>\n",
       "      <td>321</td>\n",
       "      <td>1</td>\n",
       "    </tr>\n",
       "    <tr>\n",
       "      <th>220</th>\n",
       "      <td>324</td>\n",
       "      <td>1</td>\n",
       "    </tr>\n",
       "    <tr>\n",
       "      <th>221</th>\n",
       "      <td>334</td>\n",
       "      <td>1</td>\n",
       "    </tr>\n",
       "    <tr>\n",
       "      <th>222</th>\n",
       "      <td>355</td>\n",
       "      <td>1</td>\n",
       "    </tr>\n",
       "    <tr>\n",
       "      <th>223</th>\n",
       "      <td>357</td>\n",
       "      <td>1</td>\n",
       "    </tr>\n",
       "    <tr>\n",
       "      <th>224</th>\n",
       "      <td>361</td>\n",
       "      <td>1</td>\n",
       "    </tr>\n",
       "    <tr>\n",
       "      <th>225</th>\n",
       "      <td>362</td>\n",
       "      <td>1</td>\n",
       "    </tr>\n",
       "    <tr>\n",
       "      <th>226</th>\n",
       "      <td>385</td>\n",
       "      <td>1</td>\n",
       "    </tr>\n",
       "    <tr>\n",
       "      <th>227</th>\n",
       "      <td>389</td>\n",
       "      <td>1</td>\n",
       "    </tr>\n",
       "    <tr>\n",
       "      <th>228</th>\n",
       "      <td>399</td>\n",
       "      <td>1</td>\n",
       "    </tr>\n",
       "    <tr>\n",
       "      <th>229</th>\n",
       "      <td>462</td>\n",
       "      <td>1</td>\n",
       "    </tr>\n",
       "    <tr>\n",
       "      <th>230</th>\n",
       "      <td>472</td>\n",
       "      <td>1</td>\n",
       "    </tr>\n",
       "    <tr>\n",
       "      <th>231</th>\n",
       "      <td>587</td>\n",
       "      <td>1</td>\n",
       "    </tr>\n",
       "    <tr>\n",
       "      <th>232</th>\n",
       "      <td>599</td>\n",
       "      <td>1</td>\n",
       "    </tr>\n",
       "    <tr>\n",
       "      <th>233</th>\n",
       "      <td>618</td>\n",
       "      <td>1</td>\n",
       "    </tr>\n",
       "    <tr>\n",
       "      <th>234</th>\n",
       "      <td>732</td>\n",
       "      <td>1</td>\n",
       "    </tr>\n",
       "    <tr>\n",
       "      <th>235</th>\n",
       "      <td>743</td>\n",
       "      <td>1</td>\n",
       "    </tr>\n",
       "    <tr>\n",
       "      <th>236</th>\n",
       "      <td>773</td>\n",
       "      <td>1</td>\n",
       "    </tr>\n",
       "    <tr>\n",
       "      <th>237</th>\n",
       "      <td>893</td>\n",
       "      <td>1</td>\n",
       "    </tr>\n",
       "  </tbody>\n",
       "</table>\n",
       "<p>238 rows × 2 columns</p>\n",
       "</div>"
      ],
      "text/plain": [
       "     # Out-degree  Count\n",
       "0               0   1005\n",
       "1               1   2382\n",
       "2               2    704\n",
       "3               3    401\n",
       "4               4    279\n",
       "..            ...    ...\n",
       "233           618      1\n",
       "234           732      1\n",
       "235           743      1\n",
       "236           773      1\n",
       "237           893      1\n",
       "\n",
       "[238 rows x 2 columns]"
      ]
     },
     "execution_count": 96,
     "metadata": {},
     "output_type": "execute_result"
    }
   ],
   "source": [
    "to_pd"
   ]
  },
  {
   "cell_type": "code",
   "execution_count": 114,
   "metadata": {},
   "outputs": [
    {
     "data": {
      "image/png": "[encoded data removed]",
      "text/plain": [
       "<Figure size 432x288 with 1 Axes>"
      ]
     },
     "metadata": {
      "needs_background": "light"
     },
     "output_type": "display_data"
    }
   ],
   "source": [
    "fig, ax = plt.subplots()\n",
    "ax.axis([1, 1005, 1, 1005])\n",
    "ax.loglog()\n",
    "plt.ylabel('degree')\n",
    "plt.xlabel('distribution')\n",
    "plt.plot(to_pd['# Out-degree'], to_pd['Count'])\n",
    "plt.show()"
   ]
  },
  {
   "cell_type": "code",
   "execution_count": 181,
   "metadata": {},
   "outputs": [
    {
     "data": {
      "text/plain": [
       "poly1d([-0.215841  , 63.04287515])"
      ]
     },
     "execution_count": 181,
     "metadata": {},
     "output_type": "execute_result"
    }
   ],
   "source": [
    "poly_coef = np.polyfit(to_pd['# Out-degree'], to_pd['Count'], 1)\n",
    "poly_id = np.poly1d(poly_coef)\n",
    "poly_id"
   ]
  },
  {
   "cell_type": "code",
   "execution_count": 187,
   "metadata": {},
   "outputs": [
    {
     "data": {
      "image/png": "[encoded data removed]",
      "text/plain": [
       "<Figure size 432x288 with 1 Axes>"
      ]
     },
     "metadata": {
      "needs_background": "light"
     },
     "output_type": "display_data"
    }
   ],
   "source": [
    "fig, ax = plt.subplots()\n",
    "ax.axis([1, 1005, 1, 1005])\n",
    "ax.loglog()\n",
    "plt.ylabel('degree')\n",
    "plt.xlabel('distribution')\n",
    "plt.plot(to_pd['# Out-degree'], to_pd['Count'], 'yo', \n",
    "         to_pd['# Out-degree'], poly_id(to_pd['# Out-degree']), '--k')\n",
    "plt.show()"
   ]
  },
  {
   "cell_type": "code",
   "execution_count": 186,
   "metadata": {},
   "outputs": [
    {
     "data": {
      "image/png": "[encoded data removed]",
      "text/plain": [
       "<Figure size 432x288 with 1 Axes>"
      ]
     },
     "metadata": {
      "needs_background": "light"
     },
     "output_type": "display_data"
    }
   ],
   "source": [
    "fig, ax = plt.subplots()\n",
    "ax.axis([1, 200, 1, 200])\n",
    "# ax.loglog()\n",
    "plt.ylabel('degree')\n",
    "plt.xlabel('distribution')\n",
    "plt.plot(to_pd['# Out-degree'], to_pd['Count'], 'yo', \n",
    "         to_pd['# Out-degree'], poly_id(to_pd['# Out-degree']), '--k')\n",
    "plt.show()"
   ]
  },
  {
   "cell_type": "code",
   "execution_count": 21,
   "metadata": {},
   "outputs": [],
   "source": [
    "snap.DrawGViz(G_wiki_vote, snap.gvlNeato, \"images/wiki-Vote-graph.png\", \"wiki-Vote-graph\", True)"
   ]
  },
  {
   "cell_type": "markdown",
   "metadata": {},
   "source": [
    "![images/wiki-Vote-graph.png](images/wiki-Vote-graph.png)"
   ]
  },
  {
   "cell_type": "code",
   "execution_count": 24,
   "metadata": {},
   "outputs": [],
   "source": [
    "# this method provoke out of memory result\n",
    "\n",
    "# s = Source.from_file('images/wiki-Vote-graph.dot')\n",
    "# s.view()"
   ]
  },
  {
   "cell_type": "markdown",
   "metadata": {},
   "source": [
    "# Finding Experts on the Java Programming Language on StackOverow"
   ]
  },
  {
   "cell_type": "code",
   "execution_count": 15,
   "metadata": {},
   "outputs": [
    {
     "name": "stdout",
     "output_type": "stream",
     "text": [
      "100% [..........................................................................] 2144812 / 2144812\n",
      "stackoverflow-Java.txt.gz loaded and unpacked\n"
     ]
    }
   ],
   "source": [
    "gz_data_loader('http://snap.stanford.edu/class/cs224w-data/hw0/stackoverflow-Java.txt.gz')"
   ]
  },
  {
   "cell_type": "markdown",
   "metadata": {},
   "source": [
    "- [x] The number of weakly connected components in the network\n",
    "- [x] The number of edges and the number of nodes in the largest weakly connected component\n",
    "- [x] IDs of the top 3 most central nodes in the network by PagePank scores\n",
    "- [x] IDs of the top 3 hubs and top 3 authorities in the network by HITS scores"
   ]
  },
  {
   "cell_type": "code",
   "execution_count": 16,
   "metadata": {},
   "outputs": [],
   "source": [
    "G_stackoverflow_Java = snap.LoadEdgeList(snap.PNGraph, \"input/stackoverflow-Java.txt\", 0, 1)"
   ]
  },
  {
   "cell_type": "code",
   "execution_count": 17,
   "metadata": {},
   "outputs": [
    {
     "name": "stdout",
     "output_type": "stream",
     "text": [
      "10143\n"
     ]
    }
   ],
   "source": [
    "# The number of weakly connected components in the network\n",
    "weakly = snap.TCnComV()\n",
    "snap.GetWccs(G_stackoverflow_Java, weakly)\n",
    "weakly_count = 0\n",
    "for count in weakly:\n",
    "    weakly_count += 1\n",
    "print(weakly_count)"
   ]
  },
  {
   "cell_type": "code",
   "execution_count": 18,
   "metadata": {},
   "outputs": [
    {
     "name": "stdout",
     "output_type": "stream",
     "text": [
      "131188 numbers of nodes and 115 numbers of edges in largest weakly connected component\n"
     ]
    }
   ],
   "source": [
    "# The number of edges and the number of nodes in the largest weakly connected component\n",
    "\n",
    "G_stackoverflow_Java_largest = snap.GetMxWcc(G_stackoverflow_Java)\n",
    "nodes_l = snap.CntNonZNodes(G_stackoverflow_Java_largest)\n",
    "edges_l = snap.CntUniqBiDirEdges(G_stackoverflow_Java_largest)\n",
    "print('{0} numbers of nodes and {1} numbers of edges in largest weakly connected component'.format(nodes_l, edges_l))"
   ]
  },
  {
   "cell_type": "code",
   "execution_count": 19,
   "metadata": {},
   "outputs": [
    {
     "name": "stdout",
     "output_type": "stream",
     "text": [
      "id 22656, pagerank 0.007103532693128619 \n",
      "\n",
      "id 135152, pagerank 0.010005538895741885 \n",
      "\n",
      "id 992484, pagerank 0.013980540412209575 \n",
      "\n"
     ]
    }
   ],
   "source": [
    "# IDs of the top 3 most central nodes in the network by PagePank scores\n",
    "pagerank = snap.TIntFltH()\n",
    "snap.GetPageRank(G_stackoverflow_Java, pagerank)\n",
    "storage = {}\n",
    "for item in pagerank:\n",
    "    storage[item] = pagerank[item]\n",
    "sorted_storage_values_3 = sorted(storage.values())[-3::]\n",
    "for item in pagerank:\n",
    "    if pagerank[item] in sorted_storage_values_3:\n",
    "        print('id {0}, pagerank {1} \\n'.format(item, pagerank[item]))"
   ]
  },
  {
   "cell_type": "code",
   "execution_count": 20,
   "metadata": {},
   "outputs": [
    {
     "name": "stdout",
     "output_type": "stream",
     "text": [
      "id 359862, hubs 0.05687564588068672 \n",
      "\n",
      "id 892029, hubs 0.07336380373389548 \n",
      "\n",
      "id 1194415, hubs 0.05955074418794487 \n",
      "\n",
      "id 22656, authorities 0.6047239730413133 \n",
      "\n",
      "id 157882, authorities 0.2986993488728824 \n",
      "\n",
      "id 571407, authorities 0.2839071934144654 \n",
      "\n"
     ]
    }
   ],
   "source": [
    "# IDs of the top 3 hubs and top 3 authorities in the network by HITS scores\n",
    "hubs = snap.TIntFltH()\n",
    "authorities = snap.TIntFltH()\n",
    "snap.GetHits(G_stackoverflow_Java, hubs, authorities)\n",
    "storage_hubs = {}\n",
    "for item in hubs:\n",
    "    storage_hubs[item] = hubs[item]\n",
    "storage_authorities = {}\n",
    "for item in authorities:\n",
    "    storage_authorities[item] = authorities[item]\n",
    "sorted_storage_hubs_values_3 = sorted(storage_hubs.values())[-3::]\n",
    "sorted_storage_authorities_values_3 = sorted(storage_authorities.values())[-3::]\n",
    "for item in hubs:\n",
    "    if hubs[item] in sorted_storage_hubs_values_3:\n",
    "        print('id {0}, hubs {1} \\n'.format(item, hubs[item]))\n",
    "for item in authorities:\n",
    "    if authorities[item] in sorted_storage_authorities_values_3:\n",
    "        print('id {0}, authorities {1} \\n'.format(item, authorities[item]))"
   ]
  },
  {
   "cell_type": "code",
   "execution_count": null,
   "metadata": {},
   "outputs": [],
   "source": []
  }
 ],
 "metadata": {
  "kernelspec": {
   "display_name": "Python 3",
   "language": "python",
   "name": "python3"
  },
  "language_info": {
   "codemirror_mode": {
    "name": "ipython",
    "version": 3
   },
   "file_extension": ".py",
   "mimetype": "text/x-python",
   "name": "python",
   "nbconvert_exporter": "python",
   "pygments_lexer": "ipython3",
   "version": "3.7.2"
  },
  "varInspector": {
   "cols": {
    "lenName": 16,
    "lenType": 16,
    "lenVar": 40
   },
   "kernels_config": {
    "python": {
     "delete_cmd_postfix": "",
     "delete_cmd_prefix": "del ",
     "library": "var_list.py",
     "varRefreshCmd": "print(var_dic_list())"
    },
    "r": {
     "delete_cmd_postfix": ") ",
     "delete_cmd_prefix": "rm(",
     "library": "var_list.r",
     "varRefreshCmd": "cat(var_dic_list()) "
    }
   },
   "types_to_exclude": [
    "module",
    "function",
    "builtin_function_or_method",
    "instance",
    "_Feature"
   ],
   "window_display": false
  }
 },
 "nbformat": 4,
 "nbformat_minor": 2
}

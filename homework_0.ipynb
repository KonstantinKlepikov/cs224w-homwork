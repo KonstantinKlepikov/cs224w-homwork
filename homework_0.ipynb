{
 "cells": [
  {
   "cell_type": "code",
   "execution_count": 1,
   "metadata": {},
   "outputs": [],
   "source": [
    "import snap\n",
    "import numpy as np\n",
    "import pandas as pd\n",
    "import wget\n",
    "import os\n",
    "import gzip"
   ]
  },
  {
   "cell_type": "code",
   "execution_count": 2,
   "metadata": {},
   "outputs": [],
   "source": [
    "def gz_data_loader(data_url):\n",
    "    file_to_load = wget.download(data_url)\n",
    "    filename = os.path.splitext(os.path.basename(data_url))[0]\n",
    "    os.replace(file_to_load, os.path.join('input', file_to_load))\n",
    "\n",
    "    with gzip.open(os.path.join('input', file_to_load), 'rb') as f:\n",
    "        f_in = f.read()\n",
    "        with open(os.path.join('input', filename), 'wb') as f_out:\n",
    "            f_out.write(f_in)\n",
    "            print('\\n{} loaded and unpacked'.format(os.path.basename(data_url)))"
   ]
  },
  {
   "cell_type": "markdown",
   "metadata": {},
   "source": [
    "1 Analyzing the Wikipedia voters network [27 points]\n",
    "\n",
    "Download the Wikipedia voting network wiki-Vote.txt.gz: [ссылка](http://snap.stanford.edu/data/wiki-Vote.html)\n",
    "\n",
    "![images/001.png](images/001.png)\n",
    "\n",
    "![images/002.png](images/002.png)\n",
    "\n",
    "2 Further Analyzing the Wikipedia voters network [33 points]\n",
    "\n",
    "For this problem, we use the Wikipedia voters network. If you are using Python, you might\n",
    "want to use NumPy, SciPy, and/or Matplotlib libraries.\n",
    "\n",
    "![images/003.png](images/003.png)\n",
    "\n",
    "3 Finding Experts on the Java Programming Language on StackOverow [40 points]\n",
    "\n",
    "Download the StackOverow network stackoverflow-Java.txt.gz: [ссылка](http://snap.stanford.edu/class/cs224w-data/hw0/stackoverflow-Java.txt.gz). An edge (a, b) in the network\n",
    "means that person a endorsed an answer from person b on a Java-related question.\n",
    "\n",
    "![images/004.png](images/004.png)\n",
    "\n",
    "![images/005.png](images/005.png)\n",
    "\n",
    "You can find more details about this exercise on the Snap.py tutorial page: [тут](http://snap.stanford.edu/proj/snap-icwsm/). As an extra exercise, extend the tutorial to find experts in other program-\n",
    "ming languages or topics."
   ]
  },
  {
   "cell_type": "markdown",
   "metadata": {},
   "source": [
    "# Analyzing the Wikipedia voters network"
   ]
  },
  {
   "cell_type": "markdown",
   "metadata": {},
   "source": [
    "- [x] The number of nodes in the network.\n",
    "- [x] The number of nodes with a self-edge (self-loop)\n",
    "- [x] The number of directed edges in the network\n",
    "- [x] The number of undirected edges in the network\n",
    "- [x] The number of reciprocated edges in the network\n",
    "- [x] The number of nodes of zero out-degree\n",
    "- [x] The number of nodes of zero in-degree\n",
    "- [x] The number of nodes with more than 10 outgoing edges (out-degree > 10)\n",
    "- [x] The number of nodes with fewer than 10 incoming edges (in-degree < 10)"
   ]
  },
  {
   "cell_type": "code",
   "execution_count": 3,
   "metadata": {},
   "outputs": [
    {
     "name": "stdout",
     "output_type": "stream",
     "text": [
      "100% [............................................................................] 290339 / 290339\n",
      "wiki-Vote.txt.gz loaded and unpacked\n"
     ]
    }
   ],
   "source": [
    "gz_data_loader('http://snap.stanford.edu/data/wiki-Vote.txt.gz')"
   ]
  },
  {
   "cell_type": "code",
   "execution_count": 4,
   "metadata": {},
   "outputs": [],
   "source": [
    "G_wiki_vote = snap.LoadEdgeList(snap.PNGraph, \"input/wiki-Vote.txt\", 0, 1)"
   ]
  },
  {
   "cell_type": "code",
   "execution_count": 5,
   "metadata": {},
   "outputs": [],
   "source": [
    "snap.PrintInfo(G_wiki_vote, \"Standart statistcs\")"
   ]
  },
  {
   "cell_type": "code",
   "execution_count": 6,
   "metadata": {},
   "outputs": [
    {
     "data": {
      "text/plain": [
       "7115"
      ]
     },
     "execution_count": 6,
     "metadata": {},
     "output_type": "execute_result"
    }
   ],
   "source": [
    "# The number of nodes in the network (with degree greater than 0)\n",
    "snap.CntNonZNodes(G_wiki_vote)"
   ]
  },
  {
   "cell_type": "code",
   "execution_count": 7,
   "metadata": {},
   "outputs": [
    {
     "name": "stdout",
     "output_type": "stream",
     "text": [
      "7115\n"
     ]
    }
   ],
   "source": [
    "# by iteratuon\n",
    "node_summary = 0\n",
    "for node in G_wiki_vote.Nodes():\n",
    "    node_summary += 1\n",
    "print(node_summary)"
   ]
  },
  {
   "cell_type": "code",
   "execution_count": 8,
   "metadata": {},
   "outputs": [
    {
     "data": {
      "text/plain": [
       "0"
      ]
     },
     "execution_count": 8,
     "metadata": {},
     "output_type": "execute_result"
    }
   ],
   "source": [
    "# The number of nodes with a self-edge (self-loop)\n",
    "snap.CntSelfEdges(G_wiki_vote)"
   ]
  },
  {
   "cell_type": "code",
   "execution_count": 9,
   "metadata": {},
   "outputs": [
    {
     "data": {
      "text/plain": [
       "103689"
      ]
     },
     "execution_count": 9,
     "metadata": {},
     "output_type": "execute_result"
    }
   ],
   "source": [
    "# The number of directed edges in the network (unic!!!)\n",
    "snap.CntUniqDirEdges(G_wiki_vote)"
   ]
  },
  {
   "cell_type": "code",
   "execution_count": 10,
   "metadata": {},
   "outputs": [
    {
     "data": {
      "text/plain": [
       "100762"
      ]
     },
     "execution_count": 10,
     "metadata": {},
     "output_type": "execute_result"
    }
   ],
   "source": [
    "# The number of undirected edges in the network (unic!!!)\n",
    "snap.CntUniqUndirEdges(G_wiki_vote)"
   ]
  },
  {
   "cell_type": "code",
   "execution_count": 11,
   "metadata": {},
   "outputs": [
    {
     "data": {
      "text/plain": [
       "2927"
      ]
     },
     "execution_count": 11,
     "metadata": {},
     "output_type": "execute_result"
    }
   ],
   "source": [
    "# The number of reciprocated edges in the network (unic bidirectinal!!!)\n",
    "snap.CntUniqBiDirEdges(G_wiki_vote)"
   ]
  },
  {
   "cell_type": "code",
   "execution_count": 12,
   "metadata": {},
   "outputs": [
    {
     "data": {
      "text/plain": [
       "1005"
      ]
     },
     "execution_count": 12,
     "metadata": {},
     "output_type": "execute_result"
    }
   ],
   "source": [
    "# The number of nodes of zero out-degree\n",
    "snap.CntOutDegNodes(G_wiki_vote, 0)"
   ]
  },
  {
   "cell_type": "code",
   "execution_count": 13,
   "metadata": {},
   "outputs": [
    {
     "data": {
      "text/plain": [
       "4734"
      ]
     },
     "execution_count": 13,
     "metadata": {},
     "output_type": "execute_result"
    }
   ],
   "source": [
    "# The number of nodes of zero in-degree\n",
    "snap.CntInDegNodes(G_wiki_vote, 0)"
   ]
  },
  {
   "cell_type": "code",
   "execution_count": 14,
   "metadata": {},
   "outputs": [
    {
     "name": "stdout",
     "output_type": "stream",
     "text": [
      "Out-degree > 10 has 1612 nodes, in-degree < 10 has 4346 nodes\n"
     ]
    }
   ],
   "source": [
    "# The number of nodes with more than 10 outgoing edges (out-degree > 10)\n",
    "# The number of nodes with fewer than 10 incoming edges (in-degree < 10)\n",
    "node_more_10_out = 0\n",
    "node_less_10_in = 0\n",
    "for node in G_wiki_vote.Nodes():\n",
    "    if node.GetOutDeg() > 10:\n",
    "        node_more_10_out += 1\n",
    "    elif node.GetInDeg() < 10:\n",
    "        node_less_10_in += 1\n",
    "print('Out-degree > 10 has {} nodes, in-degree < 10 has {} nodes'.format(node_more_10_out, node_less_10_in))"
   ]
  },
  {
   "cell_type": "markdown",
   "metadata": {},
   "source": [
    "# Further Analyzing the Wikipedia voters network"
   ]
  },
  {
   "cell_type": "markdown",
   "metadata": {},
   "source": [
    "# Finding Experts on the Java Programming Language on StackOverow"
   ]
  },
  {
   "cell_type": "code",
   "execution_count": 15,
   "metadata": {},
   "outputs": [
    {
     "name": "stdout",
     "output_type": "stream",
     "text": [
      "100% [..........................................................................] 2144812 / 2144812\n",
      "stackoverflow-Java.txt.gz loaded and unpacked\n"
     ]
    }
   ],
   "source": [
    "gz_data_loader('http://snap.stanford.edu/class/cs224w-data/hw0/stackoverflow-Java.txt.gz')"
   ]
  },
  {
   "cell_type": "code",
   "execution_count": null,
   "metadata": {},
   "outputs": [],
   "source": []
  }
 ],
 "metadata": {
  "kernelspec": {
   "display_name": "Python 3",
   "language": "python",
   "name": "python3"
  },
  "language_info": {
   "codemirror_mode": {
    "name": "ipython",
    "version": 3
   },
   "file_extension": ".py",
   "mimetype": "text/x-python",
   "name": "python",
   "nbconvert_exporter": "python",
   "pygments_lexer": "ipython3",
   "version": "3.7.2"
  },
  "varInspector": {
   "cols": {
    "lenName": 16,
    "lenType": 16,
    "lenVar": 40
   },
   "kernels_config": {
    "python": {
     "delete_cmd_postfix": "",
     "delete_cmd_prefix": "del ",
     "library": "var_list.py",
     "varRefreshCmd": "print(var_dic_list())"
    },
    "r": {
     "delete_cmd_postfix": ") ",
     "delete_cmd_prefix": "rm(",
     "library": "var_list.r",
     "varRefreshCmd": "cat(var_dic_list()) "
    }
   },
   "types_to_exclude": [
    "module",
    "function",
    "builtin_function_or_method",
    "instance",
    "_Feature"
   ],
   "window_display": false
  }
 },
 "nbformat": 4,
 "nbformat_minor": 2
}

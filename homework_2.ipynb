{
 "cells": [
  {
   "cell_type": "markdown",
   "metadata": {},
   "source": [
    "# 01. Node classification"
   ]
  },
  {
   "cell_type": "markdown",
   "metadata": {},
   "source": [
    "![images/009.png](images/009.png)\n",
    "\n",
    "![images/010.png](images/010.png)"
   ]
  },
  {
   "cell_type": "markdown",
   "metadata": {},
   "source": [
    "# 02. Node Embeddings with TransE"
   ]
  },
  {
   "cell_type": "markdown",
   "metadata": {},
   "source": [
    "![images/011.png](images/011.png)\n",
    "\n",
    "![images/012.png](images/012.png)\n",
    "\n",
    "![images/013.png](images/013.png)\n",
    "\n",
    "![images/014.png](images/014.png)\n",
    "\n",
    "![images/015.png](images/015.png)"
   ]
  },
  {
   "cell_type": "markdown",
   "metadata": {},
   "source": [
    "- [x] Relational Classication\n",
    "- [ ] Belief Propagation\n",
    "- [ ] Warmup: Why the Comparative Loss?\n",
    "- [ ] The Purpose of the Margin\n",
    "- [ ] Why are Entity Embeddings Normalized?\n",
    "- [ ] Where TransE fails"
   ]
  },
  {
   "cell_type": "code",
   "execution_count": 1,
   "metadata": {},
   "outputs": [],
   "source": [
    "import snap\n",
    "import numpy as np\n",
    "import wget\n",
    "import os\n",
    "import gzip\n",
    "from graphviz import Graph\n",
    "from graphviz import Source\n",
    "import matplotlib.pyplot as plt"
   ]
  },
  {
   "cell_type": "code",
   "execution_count": 2,
   "metadata": {},
   "outputs": [],
   "source": [
    "def gz_data_loader(data_url):\n",
    "    file_to_load = wget.download(data_url)\n",
    "    filename = os.path.splitext(os.path.basename(data_url))[0]\n",
    "    os.replace(file_to_load, os.path.join('input', file_to_load))\n",
    "\n",
    "    with gzip.open(os.path.join('input', file_to_load), 'rb') as f:\n",
    "        f_in = f.read()\n",
    "        with open(os.path.join('input', filename), 'wb') as f_out:\n",
    "            f_out.write(f_in)\n",
    "            print('\\n{} loaded and unpacked'.format(os.path.basename(data_url)))"
   ]
  },
  {
   "cell_type": "code",
   "execution_count": 3,
   "metadata": {},
   "outputs": [],
   "source": [
    "import hw2"
   ]
  },
  {
   "cell_type": "markdown",
   "metadata": {},
   "source": [
    "## Relational Classication"
   ]
  },
  {
   "cell_type": "code",
   "execution_count": 4,
   "metadata": {},
   "outputs": [
    {
     "data": {
      "text/plain": [
       "-1"
      ]
     },
     "execution_count": 4,
     "metadata": {},
     "output_type": "execute_result"
    }
   ],
   "source": [
    "G = snap.TUNGraph.New()\n",
    "for n in range(1, 11):\n",
    "    G.AddNode(n)\n",
    "G.AddEdge(1, 2)\n",
    "G.AddEdge(1, 3)\n",
    "G.AddEdge(2, 3)\n",
    "G.AddEdge(2, 4)\n",
    "G.AddEdge(4, 7)\n",
    "G.AddEdge(7, 8)\n",
    "G.AddEdge(4, 8)\n",
    "G.AddEdge(8, 5)\n",
    "G.AddEdge(8, 9)\n",
    "G.AddEdge(3, 6)\n",
    "G.AddEdge(6, 5)\n",
    "G.AddEdge(6, 9)\n",
    "G.AddEdge(9, 5)\n",
    "G.AddEdge(6, 10)\n",
    "G.AddEdge(10, 9)"
   ]
  },
  {
   "cell_type": "code",
   "execution_count": 5,
   "metadata": {},
   "outputs": [],
   "source": [
    "snap.DrawGViz(G, snap.gvlNeato, \"images/HW2RelationalClassication.png\", \"HW2RelationalClassication\", True)"
   ]
  },
  {
   "cell_type": "markdown",
   "metadata": {},
   "source": [
    "![images/HW2RelationalClassication.png](images/HW2RelationalClassication.png)"
   ]
  },
  {
   "cell_type": "code",
   "execution_count": 6,
   "metadata": {},
   "outputs": [],
   "source": [
    "import networkx as nx\n",
    "import matplotlib.pyplot as plt\n",
    "import numpy as np"
   ]
  },
  {
   "cell_type": "code",
   "execution_count": 135,
   "metadata": {},
   "outputs": [],
   "source": [
    "G1 = nx.Graph()\n",
    "edges = [(1, 2), (1, 3), (2, 3), (2, 4), (4, 7), (7, 8), (4, 8), (8, 5), (8, 9), (3, 6), (3, 6), (6, 5), \n",
    "        (6, 9), (9, 5), (6, 10), (10, 9)]\n",
    "G1.add_edges_from(edges)\n",
    "for i in (3, 5):\n",
    "    G1.nodes[i]['weight'] = 1\n",
    "for i in (8, 10):\n",
    "    G1.nodes[i]['weight'] = 0\n",
    "for i in (1, 2, 4, 6, 7, 9):\n",
    "    G1.nodes[i]['weight'] = 0.5"
   ]
  },
  {
   "cell_type": "code",
   "execution_count": 54,
   "metadata": {},
   "outputs": [
    {
     "data": {
      "image/png": "[encoded data removed]",
      "text/plain": [
       "<Figure size 432x288 with 2 Axes>"
      ]
     },
     "metadata": {},
     "output_type": "display_data"
    }
   ],
   "source": [
    "plt.subplot(121)\n",
    "nx.draw(G1, node_size=500, node_color='#c7c7c7', edge_color='#666666', with_labels=True)\n",
    "plt.subplot(122)\n",
    "nx.draw(G1, pos=nx.circular_layout(G1), node_size=500, node_color='#c7c7c7', edge_color='#666666', with_labels=True)"
   ]
  },
  {
   "cell_type": "code",
   "execution_count": 136,
   "metadata": {},
   "outputs": [
    {
     "data": {
      "text/plain": [
       "NodeDataView({1: {'weight': 0.5}, 2: {'weight': 0.5}, 3: {'weight': 1}, 4: {'weight': 0.5}, 7: {'weight': 0.5}, 8: {'weight': 0}, 5: {'weight': 1}, 9: {'weight': 0.5}, 6: {'weight': 0.5}, 10: {'weight': 0}})"
      ]
     },
     "execution_count": 136,
     "metadata": {},
     "output_type": "execute_result"
    }
   ],
   "source": [
    "G1.nodes(data=True)"
   ]
  },
  {
   "cell_type": "code",
   "execution_count": 137,
   "metadata": {},
   "outputs": [],
   "source": [
    "def prob_pred(N, Graph):\n",
    "    for n in list(range(N)):\n",
    "        for i in list(range(10)):\n",
    "            neighbors = list(nx.neighbors(Graph, i+1))\n",
    "            n_p = 0\n",
    "            e_weight = 1\n",
    "            for j in neighbors:\n",
    "                n_p += Graph.nodes[j]['weight'] * e_weight\n",
    "            p = n_p / len(neighbors)\n",
    "            Graph.nodes[i+1]['weight'] = p\n",
    "    return Graph"
   ]
  },
  {
   "cell_type": "code",
   "execution_count": 142,
   "metadata": {},
   "outputs": [],
   "source": [
    "G_p = prob_pred(2, G1.copy())"
   ]
  },
  {
   "cell_type": "code",
   "execution_count": 143,
   "metadata": {},
   "outputs": [
    {
     "data": {
      "text/plain": [
       "NodeDataView({1: {'weight': 0.7083333333333333}, 2: {'weight': 0.5972222222222222}, 3: {'weight': 0.5601851851851851}, 4: {'weight': 0.3900462962962963}, 7: {'weight': 0.37731481481481477}, 8: {'weight': 0.3428819444444444}, 5: {'weight': 0.3359375}, 9: {'weight': 0.3429814091435185}, 6: {'weight': 0.3714916087962962}, 10: {'weight': 0.35723650896990733}})"
      ]
     },
     "execution_count": 143,
     "metadata": {},
     "output_type": "execute_result"
    }
   ],
   "source": [
    "G_p.nodes(data=True)"
   ]
  },
  {
   "cell_type": "code",
   "execution_count": 144,
   "metadata": {},
   "outputs": [],
   "source": [
    "for i in (2, 4, 6):\n",
    "    G_p.nodes[i]['weight'] = 1"
   ]
  },
  {
   "cell_type": "code",
   "execution_count": 145,
   "metadata": {},
   "outputs": [
    {
     "data": {
      "text/plain": [
       "NodeDataView({1: {'weight': 0.7083333333333333}, 2: {'weight': 1}, 3: {'weight': 0.5601851851851851}, 4: {'weight': 1}, 7: {'weight': 0.37731481481481477}, 8: {'weight': 0.3428819444444444}, 5: {'weight': 0.3359375}, 9: {'weight': 0.3429814091435185}, 6: {'weight': 1}, 10: {'weight': 0.35723650896990733}})"
      ]
     },
     "execution_count": 145,
     "metadata": {},
     "output_type": "execute_result"
    }
   ],
   "source": [
    "G_p.nodes(data=True)"
   ]
  },
  {
   "cell_type": "code",
   "execution_count": 146,
   "metadata": {},
   "outputs": [],
   "source": [
    "G_p1 = prob_pred(2, G_p.copy())"
   ]
  },
  {
   "cell_type": "code",
   "execution_count": 147,
   "metadata": {},
   "outputs": [
    {
     "data": {
      "text/plain": [
       "NodeDataView({1: {'weight': 0.8167438271604939}, 2: {'weight': 0.723411779835391}, 3: {'weight': 0.6896824882517789}, 4: {'weight': 0.5338437848293895}, 7: {'weight': 0.49523708097565156}, 8: {'weight': 0.4981231689453124}, 5: {'weight': 0.48723351121439357}, 9: {'weight': 0.5066997756356237}, 6: {'weight': 0.5389073441221552}, 10: {'weight': 0.5228035598788895}})"
      ]
     },
     "execution_count": 147,
     "metadata": {},
     "output_type": "execute_result"
    }
   ],
   "source": [
    "G_p1.nodes(data=True)"
   ]
  },
  {
   "cell_type": "code",
   "execution_count": 153,
   "metadata": {},
   "outputs": [
    {
     "data": {
      "text/plain": [
       "[1, 2, 3, 4, 6]"
      ]
     },
     "execution_count": 153,
     "metadata": {},
     "output_type": "execute_result"
    }
   ],
   "source": [
    "[i[0] for i in G_p.nodes(data=True) if i[1]['weight'] > 0.5]"
   ]
  },
  {
   "cell_type": "code",
   "execution_count": 154,
   "metadata": {},
   "outputs": [
    {
     "data": {
      "text/plain": [
       "[1, 2, 3, 4, 9, 6, 10]"
      ]
     },
     "execution_count": 154,
     "metadata": {},
     "output_type": "execute_result"
    }
   ],
   "source": [
    "[i[0] for i in G_p1.nodes(data=True) if i[1]['weight'] > 0.5]"
   ]
  },
  {
   "cell_type": "code",
   "execution_count": null,
   "metadata": {},
   "outputs": [],
   "source": []
  }
 ],
 "metadata": {
  "kernelspec": {
   "display_name": "Python 3",
   "language": "python",
   "name": "python3"
  },
  "language_info": {
   "codemirror_mode": {
    "name": "ipython",
    "version": 3
   },
   "file_extension": ".py",
   "mimetype": "text/x-python",
   "name": "python",
   "nbconvert_exporter": "python",
   "pygments_lexer": "ipython3",
   "version": "3.7.2"
  },
  "varInspector": {
   "cols": {
    "lenName": 16,
    "lenType": 16,
    "lenVar": 40
   },
   "kernels_config": {
    "python": {
     "delete_cmd_postfix": "",
     "delete_cmd_prefix": "del ",
     "library": "var_list.py",
     "varRefreshCmd": "print(var_dic_list())"
    },
    "r": {
     "delete_cmd_postfix": ") ",
     "delete_cmd_prefix": "rm(",
     "library": "var_list.r",
     "varRefreshCmd": "cat(var_dic_list()) "
    }
   },
   "types_to_exclude": [
    "module",
    "function",
    "builtin_function_or_method",
    "instance",
    "_Feature"
   ],
   "window_display": false
  }
 },
 "nbformat": 4,
 "nbformat_minor": 2
}

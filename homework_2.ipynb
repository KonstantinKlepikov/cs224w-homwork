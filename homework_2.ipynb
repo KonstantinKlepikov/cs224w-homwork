{
 "cells": [
  {
   "cell_type": "markdown",
   "metadata": {},
   "source": [
    "# 01. Node classification"
   ]
  },
  {
   "cell_type": "markdown",
   "metadata": {},
   "source": [
    "![images/009.png](images/009.png)\n",
    "\n",
    "![images/010.png](images/010.png)"
   ]
  },
  {
   "cell_type": "markdown",
   "metadata": {},
   "source": [
    "# 02. Node Embeddings with TransE"
   ]
  },
  {
   "cell_type": "markdown",
   "metadata": {},
   "source": [
    "![images/011.png](images/011.png)\n",
    "\n",
    "![images/012.png](images/012.png)\n",
    "\n",
    "![images/013.png](images/013.png)\n",
    "\n",
    "![images/014.png](images/014.png)\n",
    "\n",
    "![images/015.png](images/015.png)"
   ]
  },
  {
   "cell_type": "markdown",
   "metadata": {},
   "source": [
    "- [x] Relational Classication\n",
    "- [x] Belief Propagation\n",
    "- [ ] Warmup: Why the Comparative Loss?\n",
    "- [ ] The Purpose of the Margin\n",
    "- [ ] Why are Entity Embeddings Normalized?\n",
    "- [ ] Where TransE fails"
   ]
  },
  {
   "cell_type": "code",
   "execution_count": 1,
   "metadata": {},
   "outputs": [],
   "source": [
    "import snap\n",
    "import numpy as np\n",
    "import wget\n",
    "import os\n",
    "import gzip\n",
    "from graphviz import Graph\n",
    "from graphviz import Source\n",
    "import matplotlib.pyplot as plt"
   ]
  },
  {
   "cell_type": "code",
   "execution_count": 2,
   "metadata": {},
   "outputs": [],
   "source": [
    "def gz_data_loader(data_url):\n",
    "    file_to_load = wget.download(data_url)\n",
    "    filename = os.path.splitext(os.path.basename(data_url))[0]\n",
    "    os.replace(file_to_load, os.path.join('input', file_to_load))\n",
    "\n",
    "    with gzip.open(os.path.join('input', file_to_load), 'rb') as f:\n",
    "        f_in = f.read()\n",
    "        with open(os.path.join('input', filename), 'wb') as f_out:\n",
    "            f_out.write(f_in)\n",
    "            print('\\n{} loaded and unpacked'.format(os.path.basename(data_url)))"
   ]
  },
  {
   "cell_type": "code",
   "execution_count": 3,
   "metadata": {},
   "outputs": [],
   "source": [
    "import hw2"
   ]
  },
  {
   "cell_type": "markdown",
   "metadata": {},
   "source": [
    "## Relational Classication"
   ]
  },
  {
   "cell_type": "code",
   "execution_count": 4,
   "metadata": {},
   "outputs": [
    {
     "data": {
      "text/plain": [
       "-1"
      ]
     },
     "execution_count": 4,
     "metadata": {},
     "output_type": "execute_result"
    }
   ],
   "source": [
    "G = snap.TUNGraph.New()\n",
    "for n in range(1, 11):\n",
    "    G.AddNode(n)\n",
    "G.AddEdge(1, 2)\n",
    "G.AddEdge(1, 3)\n",
    "G.AddEdge(2, 3)\n",
    "G.AddEdge(2, 4)\n",
    "G.AddEdge(4, 7)\n",
    "G.AddEdge(7, 8)\n",
    "G.AddEdge(4, 8)\n",
    "G.AddEdge(8, 5)\n",
    "G.AddEdge(8, 9)\n",
    "G.AddEdge(3, 6)\n",
    "G.AddEdge(6, 5)\n",
    "G.AddEdge(6, 9)\n",
    "G.AddEdge(9, 5)\n",
    "G.AddEdge(6, 10)\n",
    "G.AddEdge(10, 9)"
   ]
  },
  {
   "cell_type": "code",
   "execution_count": 5,
   "metadata": {},
   "outputs": [],
   "source": [
    "snap.DrawGViz(G, snap.gvlNeato, \"images/HW2RelationalClassication.png\", \"HW2RelationalClassication\", True)"
   ]
  },
  {
   "cell_type": "markdown",
   "metadata": {},
   "source": [
    "![images/HW2RelationalClassication.png](images/HW2RelationalClassication.png)"
   ]
  },
  {
   "cell_type": "code",
   "execution_count": 2,
   "metadata": {},
   "outputs": [],
   "source": [
    "import networkx as nx\n",
    "import matplotlib.pyplot as plt\n",
    "import numpy as np"
   ]
  },
  {
   "cell_type": "code",
   "execution_count": 41,
   "metadata": {},
   "outputs": [],
   "source": [
    "G1 = nx.Graph()\n",
    "edges = [(1, 2), (1, 3), (2, 3), (2, 4), (4, 7), (7, 8), (4, 8), (8, 5), (8, 9), (3, 6), (3, 6), (6, 5), \n",
    "        (6, 9), (9, 5), (6, 10), (10, 9)]\n",
    "G1.add_edges_from(edges)\n",
    "for i in (3, 5):\n",
    "    G1.nodes[i]['weight'] = 1\n",
    "for i in (8, 10):\n",
    "    G1.nodes[i]['weight'] = 0\n",
    "for i in (1, 2, 4, 6, 7, 9):\n",
    "    G1.nodes[i]['weight'] = 0.5"
   ]
  },
  {
   "cell_type": "code",
   "execution_count": 42,
   "metadata": {},
   "outputs": [
    {
     "data": {
      "image/png": "[encoded data removed]",
      "text/plain": [
       "<Figure size 432x288 with 2 Axes>"
      ]
     },
     "metadata": {},
     "output_type": "display_data"
    }
   ],
   "source": [
    "plt.subplot(121)\n",
    "nx.draw(G1, node_size=500, node_color='#c7c7c7', edge_color='#666666', with_labels=True)\n",
    "plt.subplot(122)\n",
    "nx.draw(G1, pos=nx.circular_layout(G1), node_size=500, node_color='#c7c7c7', edge_color='#666666', with_labels=True)"
   ]
  },
  {
   "cell_type": "code",
   "execution_count": 62,
   "metadata": {},
   "outputs": [
    {
     "name": "stdout",
     "output_type": "stream",
     "text": [
      "1: 0.5\n",
      "2: 0.5\n",
      "3: 1\n",
      "4: 0.5\n",
      "7: 0.5\n",
      "8: 0\n",
      "5: 1\n",
      "9: 0.5\n",
      "6: 0.5\n",
      "10: 0\n"
     ]
    }
   ],
   "source": [
    "for i, j in G1.nodes(data=True):\n",
    "    print('{0}: {1}'.format(i, j['weight']))"
   ]
  },
  {
   "cell_type": "code",
   "execution_count": 45,
   "metadata": {},
   "outputs": [],
   "source": [
    "def prob_pred(N, Graph):\n",
    "    for n in list(range(N)):\n",
    "        for i in list(range(10)):\n",
    "            if Graph.nodes[i+1]['weight'] and Graph.nodes[i+1]['weight'] != 1:\n",
    "                neighbors = list(nx.neighbors(Graph, i+1))\n",
    "                n_p = 0\n",
    "                e_weight = 1\n",
    "                for j in neighbors:\n",
    "                    n_p += Graph.nodes[j]['weight'] * e_weight\n",
    "                p = n_p / len(neighbors)\n",
    "                Graph.nodes[i+1]['weight'] = p\n",
    "    return Graph"
   ]
  },
  {
   "cell_type": "code",
   "execution_count": 46,
   "metadata": {},
   "outputs": [],
   "source": [
    "G_p = prob_pred(2, G1.copy())"
   ]
  },
  {
   "cell_type": "code",
   "execution_count": 61,
   "metadata": {},
   "outputs": [
    {
     "name": "stdout",
     "output_type": "stream",
     "text": [
      "1: 0.875\n",
      "2: 0.7638888888888888\n",
      "3: 1\n",
      "4: 0.32407407407407407\n",
      "7: 0.16203703703703703\n",
      "8: 0\n",
      "5: 1\n",
      "9: 0.400390625\n",
      "6: 0.6015625\n",
      "10: 0\n"
     ]
    }
   ],
   "source": [
    "for i, j in G_p.nodes(data=True):\n",
    "    print('{0}: {1}'.format(i, j['weight']))"
   ]
  },
  {
   "cell_type": "code",
   "execution_count": 48,
   "metadata": {},
   "outputs": [
    {
     "data": {
      "text/plain": [
       "[1, 2, 3, 5, 6]"
      ]
     },
     "execution_count": 48,
     "metadata": {},
     "output_type": "execute_result"
    }
   ],
   "source": [
    "[i[0] for i in G_p.nodes(data=True) if i[1]['weight'] > 0.5]"
   ]
  },
  {
   "cell_type": "code",
   "execution_count": 49,
   "metadata": {},
   "outputs": [
    {
     "data": {
      "text/plain": [
       "[4, 7, 8, 9, 10]"
      ]
     },
     "execution_count": 49,
     "metadata": {},
     "output_type": "execute_result"
    }
   ],
   "source": [
    "[i[0] for i in G_p.nodes(data=True) if i[1]['weight'] <= 0.5]"
   ]
  },
  {
   "cell_type": "code",
   "execution_count": 50,
   "metadata": {},
   "outputs": [
    {
     "name": "stdout",
     "output_type": "stream",
     "text": [
      "Probability of node 2 is 0.7638888888888888\n",
      "Probability of node 4 is 0.32407407407407407\n",
      "Probability of node 6 is 0.6015625\n"
     ]
    }
   ],
   "source": [
    "for i in (2, 4, 6):\n",
    "    print('Probability of node {0} is {1}'.format(i, G_p.nodes[i]['weight']))"
   ]
  },
  {
   "cell_type": "markdown",
   "metadata": {},
   "source": [
    "# Belief Propagation"
   ]
  },
  {
   "cell_type": "code",
   "execution_count": 1,
   "metadata": {},
   "outputs": [],
   "source": [
    "import networkx as nx\n",
    "import matplotlib.pyplot as plt\n",
    "import numpy as np"
   ]
  },
  {
   "cell_type": "code",
   "execution_count": 35,
   "metadata": {},
   "outputs": [],
   "source": [
    "G2 = nx.Graph()\n",
    "edgesG2 = [('x1', 'y1'), ('x1', 'x2'), ('x2', 'y2'), ('x2', 'x3'), ('x2', 'x4'), ('x3', 'y3'), ('x4', 'y4')]\n",
    "G2.add_edges_from(edgesG2)"
   ]
  },
  {
   "cell_type": "code",
   "execution_count": 40,
   "metadata": {},
   "outputs": [
    {
     "data": {
      "image/png": "[encoded data removed]",
      "text/plain": [
       "<Figure size 432x288 with 1 Axes>"
      ]
     },
     "metadata": {},
     "output_type": "display_data"
    }
   ],
   "source": [
    "plt.subplot(111)\n",
    "nx.draw(G2, node_size=500, node_color='#c7c7c7', edge_color='#666666', with_labels=True)"
   ]
  },
  {
   "cell_type": "markdown",
   "metadata": {},
   "source": [
    "$b_1(x_1) = \\kappa\\phi_1(x_1)m_{21}(x_1)$\n",
    "\n",
    "где $m_{21}$ - это сообщение от ноды 2 к ноде 1 о том, что состояние ноды 2 думает о ноде 1.\n",
    "\n",
    "$\\kappa$ - коэффициент, обеспечивающий то, что вероятность сойдется в 1\n",
    "\n",
    "$\\phi_1(x_1)$ - вероятность того, что нода 1 находится в состоянии $x_1$\n",
    "\n",
    "Распишем $m_{21}(x_1)$:\n",
    "\n",
    "$$b_1(x_1) = \\kappa\\phi_1(x_1)\\sum_{x_2}\\psi_{12}(x_1, x_2)\\phi_2(x_2)m_{32}(x_2)m_{42}(x_2)$$\n",
    "\n",
    "где $\\psi_{12}(x_1, x_2)$ - вероятность нахождения узла 1 в состоянии $x_1$, учитывая, что у него есть сосед 2 в состоянии $x_2$\n",
    "\n",
    "распишем $m_{32}(x_2)m_{42}(x_2)$:\n",
    "\n",
    "$$b_1(x_1) = \\kappa\\phi_1(x_1)\\sum_{x_2}\\psi_{12}(x_1, x_2)\\phi_2(x_2)\\sum_{x_3}\\phi_3(x_3)\\psi_{23}(x_2, x_3)\\sum_{x_3}\\phi_3(x_3)\\psi_{23}(x_2, x_3)$$\n",
    "\n",
    "В результате:\n",
    "\n",
    "$$b_1(x_1) = \\kappa\\sum_{x_2, x_3, x_4}p(\\{x\\}) = p_1(x_1)$$\n",
    "\n",
    "[Understanding_Belief_Propogation.pdf](http://people.csail.mit.edu/billf/publications/Understanding_Belief_Propogation.pdf)"
   ]
  },
  {
   "cell_type": "markdown",
   "metadata": {},
   "source": [
    "#### Coding"
   ]
  },
  {
   "cell_type": "code",
   "execution_count": 3,
   "metadata": {},
   "outputs": [],
   "source": [
    "import networkx as nx\n",
    "import matplotlib.pyplot as plt\n",
    "import numpy as np\n",
    "import matplotlib.pyplot as plt"
   ]
  },
  {
   "cell_type": "code",
   "execution_count": 18,
   "metadata": {},
   "outputs": [],
   "source": [
    "G3 = nx.Graph()\n",
    "edgesG3 = [('x1', 'x2'), ('x2', 'y2'), ('x2', 'x3'), ('x3', 'x4'), ('x3', 'x5'), ('x4', 'y4')]\n",
    "G3.add_edges_from(edgesG3)"
   ]
  },
  {
   "cell_type": "code",
   "execution_count": 20,
   "metadata": {},
   "outputs": [
    {
     "data": {
      "image/png": "[encoded data removed]",
      "text/plain": [
       "<Figure size 432x288 with 1 Axes>"
      ]
     },
     "metadata": {},
     "output_type": "display_data"
    }
   ],
   "source": [
    "plt.subplot(111)\n",
    "nx.draw(G3, node_size=500, node_color='#c7c7c7', edge_color='#666666', with_labels=True)"
   ]
  },
  {
   "cell_type": "code",
   "execution_count": 24,
   "metadata": {},
   "outputs": [],
   "source": [
    "G3.edges['x1', 'x2']['psi'] = G3.edges['x3', 'x4']['psi'] = np.array([[1, 0.9], [0.9, 1]])\n",
    "G3.edges['x2', 'x3']['psi'] = G3.edges['x3', 'x5']['psi'] = np.array([[0.1, 1], [1, 0.1]])\n",
    "G3.edges['x2', 'y2']['phi'] = G3.edges['x4', 'y4']['phi'] = np.array([[1, 0.1], [0.1, 1]])\n",
    "G3.nodes['y2']['state'] = 0\n",
    "G3.nodes['y4']['state'] = 1"
   ]
  },
  {
   "cell_type": "code",
   "execution_count": 25,
   "metadata": {},
   "outputs": [
    {
     "data": {
      "text/plain": [
       "NodeDataView({'x1': {}, 'x2': {}, 'y2': {'state': 0}, 'x3': {}, 'x4': {}, 'x5': {}, 'y4': {'state': 1}})"
      ]
     },
     "execution_count": 25,
     "metadata": {},
     "output_type": "execute_result"
    }
   ],
   "source": [
    "G3.nodes(data=True)"
   ]
  },
  {
   "cell_type": "code",
   "execution_count": 26,
   "metadata": {},
   "outputs": [
    {
     "data": {
      "text/plain": [
       "EdgeDataView([('x1', 'x2', {'psi': array([[1. , 0.9],\n",
       "       [0.9, 1. ]])}), ('x2', 'y2', {'phi': array([[1. , 0.1],\n",
       "       [0.1, 1. ]])}), ('x2', 'x3', {'psi': array([[0.1, 1. ],\n",
       "       [1. , 0.1]])}), ('x3', 'x4', {'psi': array([[1. , 0.9],\n",
       "       [0.9, 1. ]])}), ('x3', 'x5', {'psi': array([[0.1, 1. ],\n",
       "       [1. , 0.1]])}), ('x4', 'y4', {'phi': array([[1. , 0.1],\n",
       "       [0.1, 1. ]])})])"
      ]
     },
     "execution_count": 26,
     "metadata": {},
     "output_type": "execute_result"
    }
   ],
   "source": [
    "G3.edges(data=True)"
   ]
  },
  {
   "cell_type": "markdown",
   "metadata": {},
   "source": [
    "$m_{43} = \\phi_4(x_4, y_4)$\n",
    "\n",
    "$m_{32} = m_{43}\\psi_{35}(x_3, x_5)$\n",
    "\n",
    "$m_{21} = m_{32}\\phi_2(x_2, y_2)$\n",
    "\n",
    "$m_{23} = \\psi_{12}(x_1, x_2)\\phi_2(x_2, y_2)$\n",
    "\n",
    "$m_{34} = m_{23}\\psi_{35}(x_3, x_5)$\n",
    "\n",
    "$m_{35} = m_{23}m_{43}$\n",
    "\n",
    "$b_1(x_1) = m_{21} = m_{32}\\phi_2(x_2, y_2) = m_{43}\\psi_{35}(x_3, x_5)\\phi_2(x_2, y_2) = \\phi_4(x_4, y_4)\\psi_{35}(x_3, x_5)\\phi_2(x_2, y_2)$\n",
    "\n",
    "$b_2(x_2) = m_{32}\\psi_{12}(x_1, x_2)\\phi_2(x_2, y_2) = m_{43}\\psi_{35}(x_3, x_5)\\psi_{12}(x_1, x_2)\\phi_2(x_2, y_2) = \\phi_4(x_4, y_4)\\psi_{35}(x_3, x_5)\\psi_{12}(x_1, x_2)\\phi_2(x_2, y_2)$\n",
    "\n",
    "$b_3(x_3) = m_{23}m_{43}\\psi_{35}(x_3, x_5) = \\psi_{12}(x_1, x_2)\\phi_2(x_2, y_2)\\phi_4(x_4, y_4)\\psi_{35}(x_3, x_5)$\n",
    "\n",
    "$b_4(x_4) = m_{34}\\phi_4(x_4, y_4) = m_{23}\\psi_{35}(x_3, x_5)\\phi_4(x_4, y_4) = \\psi_{12}(x_1, x_2)\\phi_2(x_2, y_2)\\psi_{35}(x_3, x_5)\\phi_4(x_4, y_4)$\n",
    "\n",
    "$b_5(x_5) = m_{35} = m_{23}m_{43} = \\psi_{12}(x_1, x_2)\\phi_2(x_2, y_2)\\phi_4(x_4, y_4)$"
   ]
  },
  {
   "cell_type": "code",
   "execution_count": 50,
   "metadata": {},
   "outputs": [
    {
     "data": {
      "text/plain": [
       "array([[2.1, 1.2],\n",
       "       [1.2, 2.1]])"
      ]
     },
     "execution_count": 50,
     "metadata": {},
     "output_type": "execute_result"
    }
   ],
   "source": [
    "b1 = (G3.edges['x4', 'y4']['phi'] + G3.edges['x3', 'x5']['psi'] + \n",
    "      G3.edges['x2', 'y2']['phi'])\n",
    "b1"
   ]
  },
  {
   "cell_type": "code",
   "execution_count": 51,
   "metadata": {},
   "outputs": [
    {
     "data": {
      "text/plain": [
       "array([[3.1, 2.1],\n",
       "       [2.1, 3.1]])"
      ]
     },
     "execution_count": 51,
     "metadata": {},
     "output_type": "execute_result"
    }
   ],
   "source": [
    "b2 = (G3.edges['x4', 'y4']['phi'] + G3.edges['x3', 'x5']['psi'] + \n",
    "      G3.edges['x1', 'x2']['psi'] + G3.edges['x2', 'y2']['phi'])\n",
    "b2"
   ]
  },
  {
   "cell_type": "code",
   "execution_count": 52,
   "metadata": {},
   "outputs": [
    {
     "data": {
      "text/plain": [
       "array([[3.1, 2.1],\n",
       "       [2.1, 3.1]])"
      ]
     },
     "execution_count": 52,
     "metadata": {},
     "output_type": "execute_result"
    }
   ],
   "source": [
    "b3 = (G3.edges['x1', 'x2']['psi'] + G3.edges['x2', 'y2']['phi'] + \n",
    "      G3.edges['x4', 'y4']['phi'] + G3.edges['x3', 'x5']['psi'])\n",
    "b3"
   ]
  },
  {
   "cell_type": "code",
   "execution_count": 53,
   "metadata": {},
   "outputs": [
    {
     "data": {
      "text/plain": [
       "array([[3.1, 2.1],\n",
       "       [2.1, 3.1]])"
      ]
     },
     "execution_count": 53,
     "metadata": {},
     "output_type": "execute_result"
    }
   ],
   "source": [
    "b4 = (G3.edges['x1', 'x2']['psi'] + G3.edges['x2', 'y2']['phi'] + \n",
    "      G3.edges['x3', 'x5']['psi'] + G3.edges['x4', 'y4']['phi'])\n",
    "b4"
   ]
  },
  {
   "cell_type": "code",
   "execution_count": 54,
   "metadata": {},
   "outputs": [
    {
     "data": {
      "text/plain": [
       "array([[3. , 1.1],\n",
       "       [1.1, 3. ]])"
      ]
     },
     "execution_count": 54,
     "metadata": {},
     "output_type": "execute_result"
    }
   ],
   "source": [
    "b5 = (G3.edges['x1', 'x2']['psi'] + G3.edges['x2', 'y2']['phi'] + \n",
    "      G3.edges['x4', 'y4']['phi'])\n",
    "b5"
   ]
  },
  {
   "cell_type": "markdown",
   "metadata": {},
   "source": [
    "[статья с неплохим разъяснением как это устроено](http://jsbachvu.blogspot.com/2017/05/a-step-by-step-numerical-example-loopy-belief-propagation.html)"
   ]
  },
  {
   "cell_type": "markdown",
   "metadata": {},
   "source": [
    "## Node Embeddings with TransE"
   ]
  },
  {
   "cell_type": "code",
   "execution_count": null,
   "metadata": {},
   "outputs": [],
   "source": []
  }
 ],
 "metadata": {
  "kernelspec": {
   "display_name": "Python 3",
   "language": "python",
   "name": "python3"
  },
  "language_info": {
   "codemirror_mode": {
    "name": "ipython",
    "version": 3
   },
   "file_extension": ".py",
   "mimetype": "text/x-python",
   "name": "python",
   "nbconvert_exporter": "python",
   "pygments_lexer": "ipython3",
   "version": "3.7.2"
  },
  "varInspector": {
   "cols": {
    "lenName": 16,
    "lenType": 16,
    "lenVar": 40
   },
   "kernels_config": {
    "python": {
     "delete_cmd_postfix": "",
     "delete_cmd_prefix": "del ",
     "library": "var_list.py",
     "varRefreshCmd": "print(var_dic_list())"
    },
    "r": {
     "delete_cmd_postfix": ") ",
     "delete_cmd_prefix": "rm(",
     "library": "var_list.r",
     "varRefreshCmd": "cat(var_dic_list()) "
    }
   },
   "types_to_exclude": [
    "module",
    "function",
    "builtin_function_or_method",
    "instance",
    "_Feature"
   ],
   "window_display": false
  }
 },
 "nbformat": 4,
 "nbformat_minor": 2
}

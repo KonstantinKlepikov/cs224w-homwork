{
 "cells": [
  {
   "cell_type": "markdown",
   "metadata": {
    "colab_type": "text",
    "id": "WDk4WIUolK3l"
   },
   "source": [
    "# Сравнение топологии транспортной сети регионов РФ\n",
    "на данных междугородных перемещений пассажирского транспорта, предоставленных Туту.ру\n",
    "\n",
    "----------\n",
    "\n",
    "Подготовил [Вадим Сафронов](https://www.linkedin.com/in/vadymsafronov/) для участников соревнований. \n",
    "\n",
    "Желающих закопаться в графы всегда рады видеть в каналах #network_analysis и #class_cs224w\n",
    "\n",
    "---------\n",
    "\n",
    "**Последовательность действий следующая:**\n",
    "* берём все виды транспорта,\n",
    "* строим направленный граф,\n",
    "* считаем все возможные мотифы размерности в три вершины (т.к. в четыре - размер выхода считалки в 30 гигов получается и пока его ворочать не особо хочется),\n",
    "* количество вхождений в мотифы - это наш стартовый вектор признаков вершин,\n",
    "* его сворачиваем трижды (т.к. эффективный диаметр 90% графа у нас ~3),\n",
    "* всё это пихаем в kmeans (для проверки гипотезы компактности),\n",
    "* суммируем полученные вектора и получаем приближение теста изоморфизма Вейсфейлера-Лемана для регионов, либо усредняем и получаем масштабно-инвариантное отображение региона. \n",
    "\n",
    "[исходник](https://colab.research.google.com/drive/1Lg-PaJW6hdMXHZ90DY7neal23GoRl5ze#scrollTo=iPbs3TuMLUt3)"
   ]
  },
  {
   "cell_type": "code",
   "execution_count": 1,
   "metadata": {
    "colab": {
     "base_uri": "https://localhost:8080/",
     "height": 1000
    },
    "colab_type": "code",
    "id": "QF2zusWq410w",
    "outputId": "10bf2a6c-debc-4833-89ce-fe5189f4cd5f"
   },
   "outputs": [],
   "source": [
    "import networkx as nx\n",
    "import pandas as pd\n",
    "import numpy as np\n",
    "\n",
    "import matplotlib.pyplot as plt\n",
    "import seaborn as sns\n",
    "%matplotlib inline\n",
    "\n",
    "from scipy.sparse import csr_matrix\n",
    "from scipy.sparse import csgraph\n",
    "from scipy.special import xlogy\n",
    "\n",
    "from sklearn.preprocessing import Normalizer, MinMaxScaler\n",
    "from sklearn.preprocessing import normalize\n",
    "\n",
    "from sklearn.manifold import TSNE\n",
    "from sklearn.cluster import KMeans"
   ]
  },
  {
   "cell_type": "code",
   "execution_count": 2,
   "metadata": {},
   "outputs": [],
   "source": [
    "def basic_stats(G):\n",
    "    stats = {\n",
    "        'Short info:\\n': nx.info(G),\n",
    "        'Selfloops edges: ': nx.number_of_selfloops(G),\n",
    "    }\n",
    "    for i, j in stats.items():\n",
    "        print('{0}{1}'.format(i, j))"
   ]
  },
  {
   "cell_type": "code",
   "execution_count": 3,
   "metadata": {
    "colab": {
     "base_uri": "https://localhost:8080/",
     "height": 326
    },
    "colab_type": "code",
    "id": "ZK7rGnc-o8Y8",
    "outputId": "a63af098-93a1-4af4-ed8f-82aa8841de1a"
   },
   "outputs": [
    {
     "data": {
      "text/html": [
       "<div>\n",
       "<style scoped>\n",
       "    .dataframe tbody tr th:only-of-type {\n",
       "        vertical-align: middle;\n",
       "    }\n",
       "\n",
       "    .dataframe tbody tr th {\n",
       "        vertical-align: top;\n",
       "    }\n",
       "\n",
       "    .dataframe thead th {\n",
       "        text-align: right;\n",
       "    }\n",
       "</style>\n",
       "<table border=\"1\" class=\"dataframe\">\n",
       "  <thead>\n",
       "    <tr style=\"text-align: right;\">\n",
       "      <th></th>\n",
       "      <th>Unnamed: 0</th>\n",
       "      <th>source</th>\n",
       "      <th>target</th>\n",
       "      <th>pass_day</th>\n",
       "      <th>transport</th>\n",
       "      <th>source_lat</th>\n",
       "      <th>source_lng</th>\n",
       "      <th>target_lat</th>\n",
       "      <th>target_lng</th>\n",
       "      <th>target_population</th>\n",
       "      <th>source_population</th>\n",
       "      <th>source_coords</th>\n",
       "      <th>target_coords</th>\n",
       "      <th>source_country</th>\n",
       "      <th>source_county</th>\n",
       "      <th>source_region</th>\n",
       "      <th>target_country</th>\n",
       "      <th>target_county</th>\n",
       "      <th>target_region</th>\n",
       "    </tr>\n",
       "  </thead>\n",
       "  <tbody>\n",
       "    <tr>\n",
       "      <th>0</th>\n",
       "      <td>0</td>\n",
       "      <td>Москва</td>\n",
       "      <td>Симферополь (Крым)</td>\n",
       "      <td>5314.700000</td>\n",
       "      <td>avia</td>\n",
       "      <td>55.479205</td>\n",
       "      <td>37.327330</td>\n",
       "      <td>44.952146</td>\n",
       "      <td>34.102486</td>\n",
       "      <td>332317.0</td>\n",
       "      <td>11514330.0</td>\n",
       "      <td>(37.3273304, 55.4792046)</td>\n",
       "      <td>(34.1024858, 44.9521457)</td>\n",
       "      <td>Russia</td>\n",
       "      <td>Podolsky</td>\n",
       "      <td>Moscow City</td>\n",
       "      <td>Russia</td>\n",
       "      <td>Simferopolska</td>\n",
       "      <td>Crimea</td>\n",
       "    </tr>\n",
       "    <tr>\n",
       "      <th>1</th>\n",
       "      <td>1</td>\n",
       "      <td>Москва</td>\n",
       "      <td>Сочи</td>\n",
       "      <td>4976.633333</td>\n",
       "      <td>avia</td>\n",
       "      <td>55.479205</td>\n",
       "      <td>37.327330</td>\n",
       "      <td>43.585482</td>\n",
       "      <td>39.723109</td>\n",
       "      <td>343285.0</td>\n",
       "      <td>11514330.0</td>\n",
       "      <td>(37.3273304, 55.4792046)</td>\n",
       "      <td>(39.723109, 43.5854823)</td>\n",
       "      <td>Russia</td>\n",
       "      <td>Podolsky</td>\n",
       "      <td>Moscow City</td>\n",
       "      <td>Russia</td>\n",
       "      <td>Sochi</td>\n",
       "      <td>Krasnodar</td>\n",
       "    </tr>\n",
       "    <tr>\n",
       "      <th>2</th>\n",
       "      <td>2</td>\n",
       "      <td>Симферополь (Крым)</td>\n",
       "      <td>Москва</td>\n",
       "      <td>5194.066667</td>\n",
       "      <td>avia</td>\n",
       "      <td>44.952146</td>\n",
       "      <td>34.102486</td>\n",
       "      <td>55.479205</td>\n",
       "      <td>37.327330</td>\n",
       "      <td>11514330.0</td>\n",
       "      <td>332317.0</td>\n",
       "      <td>(34.1024858, 44.9521457)</td>\n",
       "      <td>(37.3273304, 55.4792046)</td>\n",
       "      <td>Russia</td>\n",
       "      <td>Simferopolska</td>\n",
       "      <td>Crimea</td>\n",
       "      <td>Russia</td>\n",
       "      <td>Podolsky</td>\n",
       "      <td>Moscow City</td>\n",
       "    </tr>\n",
       "    <tr>\n",
       "      <th>3</th>\n",
       "      <td>3</td>\n",
       "      <td>Сочи</td>\n",
       "      <td>Москва</td>\n",
       "      <td>4776.600000</td>\n",
       "      <td>avia</td>\n",
       "      <td>43.585482</td>\n",
       "      <td>39.723109</td>\n",
       "      <td>55.479205</td>\n",
       "      <td>37.327330</td>\n",
       "      <td>11514330.0</td>\n",
       "      <td>343285.0</td>\n",
       "      <td>(39.723109, 43.5854823)</td>\n",
       "      <td>(37.3273304, 55.4792046)</td>\n",
       "      <td>Russia</td>\n",
       "      <td>Sochi</td>\n",
       "      <td>Krasnodar</td>\n",
       "      <td>Russia</td>\n",
       "      <td>Podolsky</td>\n",
       "      <td>Moscow City</td>\n",
       "    </tr>\n",
       "    <tr>\n",
       "      <th>4</th>\n",
       "      <td>4</td>\n",
       "      <td>Санкт-Петербург</td>\n",
       "      <td>Москва</td>\n",
       "      <td>4524.966667</td>\n",
       "      <td>avia</td>\n",
       "      <td>59.929689</td>\n",
       "      <td>30.361791</td>\n",
       "      <td>55.479205</td>\n",
       "      <td>37.327330</td>\n",
       "      <td>11514330.0</td>\n",
       "      <td>4848742.0</td>\n",
       "      <td>(30.361791, 59.929689)</td>\n",
       "      <td>(37.3273304, 55.4792046)</td>\n",
       "      <td>Russia</td>\n",
       "      <td>NaN</td>\n",
       "      <td>Saint Petersburg</td>\n",
       "      <td>Russia</td>\n",
       "      <td>Podolsky</td>\n",
       "      <td>Moscow City</td>\n",
       "    </tr>\n",
       "  </tbody>\n",
       "</table>\n",
       "</div>"
      ],
      "text/plain": [
       "   Unnamed: 0              source              target     pass_day transport  \\\n",
       "0           0              Москва  Симферополь (Крым)  5314.700000      avia   \n",
       "1           1              Москва                Сочи  4976.633333      avia   \n",
       "2           2  Симферополь (Крым)              Москва  5194.066667      avia   \n",
       "3           3                Сочи              Москва  4776.600000      avia   \n",
       "4           4     Санкт-Петербург              Москва  4524.966667      avia   \n",
       "\n",
       "   source_lat  source_lng  target_lat  target_lng  target_population  \\\n",
       "0   55.479205   37.327330   44.952146   34.102486           332317.0   \n",
       "1   55.479205   37.327330   43.585482   39.723109           343285.0   \n",
       "2   44.952146   34.102486   55.479205   37.327330         11514330.0   \n",
       "3   43.585482   39.723109   55.479205   37.327330         11514330.0   \n",
       "4   59.929689   30.361791   55.479205   37.327330         11514330.0   \n",
       "\n",
       "   source_population             source_coords             target_coords  \\\n",
       "0         11514330.0  (37.3273304, 55.4792046)  (34.1024858, 44.9521457)   \n",
       "1         11514330.0  (37.3273304, 55.4792046)   (39.723109, 43.5854823)   \n",
       "2           332317.0  (34.1024858, 44.9521457)  (37.3273304, 55.4792046)   \n",
       "3           343285.0   (39.723109, 43.5854823)  (37.3273304, 55.4792046)   \n",
       "4          4848742.0    (30.361791, 59.929689)  (37.3273304, 55.4792046)   \n",
       "\n",
       "  source_country  source_county     source_region target_country  \\\n",
       "0         Russia       Podolsky       Moscow City         Russia   \n",
       "1         Russia       Podolsky       Moscow City         Russia   \n",
       "2         Russia  Simferopolska            Crimea         Russia   \n",
       "3         Russia          Sochi         Krasnodar         Russia   \n",
       "4         Russia            NaN  Saint Petersburg         Russia   \n",
       "\n",
       "   target_county target_region  \n",
       "0  Simferopolska        Crimea  \n",
       "1          Sochi     Krasnodar  \n",
       "2       Podolsky   Moscow City  \n",
       "3       Podolsky   Moscow City  \n",
       "4       Podolsky   Moscow City  "
      ]
     },
     "execution_count": 3,
     "metadata": {},
     "output_type": "execute_result"
    }
   ],
   "source": [
    "df = pd.read_csv('https://github.com/ods-ai-ml4sg/covid19-tutu/raw/master/data/extended_graph.csv', sep=';')\n",
    "df.head()"
   ]
  },
  {
   "cell_type": "markdown",
   "metadata": {
    "colab_type": "text",
    "id": "goGTNRUbnidi"
   },
   "source": [
    "## Подготовим список рёбер"
   ]
  },
  {
   "cell_type": "code",
   "execution_count": 4,
   "metadata": {
    "colab": {},
    "colab_type": "code",
    "id": "D8DPNfdv5qAS"
   },
   "outputs": [],
   "source": [
    "cityCode = {}\n",
    "codeCity = {}\n",
    "connections = []\n",
    "\n",
    "uniqueCities = set(df['source'].unique()) | set(df['target'].unique())\n",
    "\n",
    "for item in enumerate(uniqueCities, start=1):\n",
    "    cityCode[item[1]] = item[0]\n",
    "    codeCity[item[0]] = item[1]\n",
    "\n",
    "df['sourceId'] = df['source'].map(cityCode)\n",
    "df['targetId'] = df['target'].map(cityCode)\n",
    "\n",
    "for row in df[['sourceId', 'targetId']].itertuples():\n",
    "    link = '%d %d 1'% (row[1], row[2])\n",
    "    connections.append(link)"
   ]
  },
  {
   "cell_type": "code",
   "execution_count": null,
   "metadata": {
    "deletable": false,
    "editable": false,
    "run_control": {
     "frozen": true
    }
   },
   "outputs": [],
   "source": [
    "import os\n",
    "output = '\\n'.join(connections) + '\\n'\n",
    "\n",
    "with open(os.path.realpath('../output/covid19_tutu_data/my_network.txt'), 'w') as file:\n",
    "    file.write(output)"
   ]
  },
  {
   "cell_type": "markdown",
   "metadata": {
    "colab_type": "text",
    "id": "fb71Nqb36vgm"
   },
   "source": [
    "## Сформируем ориентированный граф $G$ из всех возможных поездок:\n",
    "\n",
    "- авиа\n",
    "- железнодорожных\n",
    "- автобусных\n",
    "\n",
    "и посчитаем его базовые статистики\n"
   ]
  },
  {
   "cell_type": "code",
   "execution_count": 5,
   "metadata": {},
   "outputs": [],
   "source": [
    "G = nx.DiGraph()\n",
    "for item in codeCity.items():\n",
    "    G.add_node(item[0], station=item[1])"
   ]
  },
  {
   "cell_type": "code",
   "execution_count": 6,
   "metadata": {},
   "outputs": [],
   "source": [
    "G.add_edges_from(df[['sourceId', 'targetId']].values)"
   ]
  },
  {
   "cell_type": "code",
   "execution_count": 7,
   "metadata": {},
   "outputs": [
    {
     "data": {
      "image/png": "[encoded data removed]",
      "text/plain": [
       "<Figure size 432x288 with 1 Axes>"
      ]
     },
     "metadata": {},
     "output_type": "display_data"
    }
   ],
   "source": [
    "option = {\n",
    "    'node_color': 'black',\n",
    "    'node_size': 1,\n",
    "    'width': 1,\n",
    "}\n",
    "plt.subplot(121)\n",
    "nx.draw(G, pos=None, ax=None, **option)\n",
    "plt.show()"
   ]
  },
  {
   "cell_type": "code",
   "execution_count": 8,
   "metadata": {},
   "outputs": [
    {
     "name": "stdout",
     "output_type": "stream",
     "text": [
      "Short info:\n",
      "Name: \n",
      "Type: DiGraph\n",
      "Number of nodes: 951\n",
      "Number of edges: 15572\n",
      "Average in degree:  16.3743\n",
      "Average out degree:  16.3743\n",
      "Selfloops edges: 6\n"
     ]
    }
   ],
   "source": [
    "basic_stats(G)"
   ]
  },
  {
   "cell_type": "markdown",
   "metadata": {
    "colab_type": "text",
    "id": "iPbs3TuMLUt3"
   },
   "source": [
    "### Motifs\n",
    "![](../images/illustration/triades.png)"
   ]
  },
  {
   "cell_type": "code",
   "execution_count": 9,
   "metadata": {},
   "outputs": [
    {
     "data": {
      "text/plain": [
       "{'003': 134535561,\n",
       " '012': 3179322,\n",
       " '102': 4388720,\n",
       " '021D': 29914,\n",
       " '021U': 13984,\n",
       " '021C': 36362,\n",
       " '111D': 103979,\n",
       " '111U': 194334,\n",
       " '030T': 1510,\n",
       " '030C': 466,\n",
       " '201': 329068,\n",
       " '120D': 2877,\n",
       " '120U': 3611,\n",
       " '120C': 5950,\n",
       " '210': 32141,\n",
       " '300': 37876}"
      ]
     },
     "execution_count": 9,
     "metadata": {},
     "output_type": "execute_result"
    }
   ],
   "source": [
    "nx.triadic_census(G)"
   ]
  },
  {
   "cell_type": "code",
   "execution_count": 10,
   "metadata": {},
   "outputs": [],
   "source": [
    "import itertools\n",
    "\n",
    "\n",
    "def _tricode(G, v, u, w):\n",
    "    \"\"\"Returns the integer code of the given triad.\n",
    "\n",
    "    This is some fancy magic that comes from Batagelj and Mrvar's paper. It\n",
    "    treats each edge joining a pair of `v`, `u`, and `w` as a bit in\n",
    "    the binary representation of an integer.\n",
    "\n",
    "    \"\"\"\n",
    "    combos = ((v, u, 1), (u, v, 2), (v, w, 4), (w, v, 8), (u, w, 16),\n",
    "              (w, u, 32))\n",
    "    return sum(x for u, v, x in combos if v in G[u])\n",
    "\n",
    "\n",
    "# The integer codes representing each type of triad.\n",
    "# Triads that are the same up to symmetry have the same code.\n",
    "TRICODES = (1, 2, 2, 3, 2, 4, 6, 8, 2, 6, 5, 7, 3, 8, 7, 11, 2, 6, 4, 8, 5, 9,\n",
    "            9, 13, 6, 10, 9, 14, 7, 14, 12, 15, 2, 5, 6, 7, 6, 9, 10, 14, 4, 9,\n",
    "            9, 12, 8, 13, 14, 15, 3, 7, 8, 11, 7, 12, 14, 15, 8, 14, 13, 15,\n",
    "            11, 15, 15, 16)\n",
    "\n",
    "# The names of each type of triad. The order of the elements is\n",
    "# important: it corresponds to the tricodes given in :data:`TRICODES`.\n",
    "TRIAD_NAMES = ('003', '012', '102', '021D', '021U', '021C', '111D', '111U',\n",
    "               '030T', '030C', '201', '120D', '120U', '120C', '210', '300')\n",
    "\n",
    "# A dictionary mapping triad code to triad name.\n",
    "TRICODE_TO_NAME = {i: TRIAD_NAMES[code - 1] for i, code in enumerate(TRICODES)}\n",
    "\n",
    "triad_nodes = {name: set([]) for name in TRIAD_NAMES}\n",
    "m = {v: i for i, v in enumerate(G)}\n",
    "for v in G:\n",
    "    vnbrs = set(G.pred[v]) | set(G.succ[v])\n",
    "    for u in vnbrs:\n",
    "        if m[u] > m[v]:\n",
    "            unbrs = set(G.pred[u]) | set(G.succ[u])\n",
    "            neighbors = (vnbrs | unbrs) - {u, v}\n",
    "            not_neighbors = set(G.nodes()) - neighbors - {u, v}\n",
    "            # Find dyadic triads\n",
    "            for w in not_neighbors:\n",
    "                if v in G[u] and u in G[v]:\n",
    "                    triad_nodes['102'].add(tuple(sorted([u, v, w])))\n",
    "                else:\n",
    "                    triad_nodes['012'].add(tuple(sorted([u, v, w])))\n",
    "            for w in neighbors:\n",
    "                if m[u] < m[w] or (m[v] < m[w] < m[u] and\n",
    "                                   v not in G.pred[w] and\n",
    "                                   v not in G.succ[w]):\n",
    "                    code = _tricode(G, v, u, w)\n",
    "                    triad_nodes[TRICODE_TO_NAME[code]].add(\n",
    "                        tuple(sorted([u, v, w])))\n",
    "# find null triads\n",
    "all_tuples = set()\n",
    "for s in triad_nodes.values():\n",
    "    all_tuples = all_tuples.union(s)\n",
    "triad_nodes['003'] = set(itertools.combinations(G.nodes(), 3)).difference(all_tuples)"
   ]
  },
  {
   "cell_type": "code",
   "execution_count": 11,
   "metadata": {},
   "outputs": [
    {
     "data": {
      "text/plain": [
       "dict_keys(['003', '012', '102', '021D', '021U', '021C', '111D', '111U', '030T', '030C', '201', '120D', '120U', '120C', '210', '300'])"
      ]
     },
     "execution_count": 11,
     "metadata": {},
     "output_type": "execute_result"
    }
   ],
   "source": [
    "triad_nodes.keys()"
   ]
  },
  {
   "cell_type": "markdown",
   "metadata": {
    "colab_type": "text",
    "id": "DAzTUfe6ZfD0"
   },
   "source": [
    "### Раcпарсим результаты\n",
    " и для каждого города построим вектор признаков - количество вхождений в мотифы "
   ]
  },
  {
   "cell_type": "code",
   "execution_count": 12,
   "metadata": {
    "colab": {
     "base_uri": "https://localhost:8080/",
     "height": 34
    },
    "colab_type": "code",
    "id": "PP7z41aofM1M",
    "outputId": "472cb1f6-0fa6-46ef-f188-593a954e5f05"
   },
   "outputs": [],
   "source": [
    "codeCityMotifCounts = {}\n",
    "\n",
    "for item in codeCity:\n",
    "    codeCityMotifCounts[item] = {\n",
    "        'triplets': [0 for i in range(16)]\n",
    "    }"
   ]
  },
  {
   "cell_type": "code",
   "execution_count": 13,
   "metadata": {},
   "outputs": [],
   "source": [
    "for i, j in enumerate(triad_nodes.keys()):\n",
    "    for k in triad_nodes[j]:\n",
    "        for m in k:\n",
    "            codeCityMotifCounts[m]['triplets'][i] += 1"
   ]
  },
  {
   "cell_type": "code",
   "execution_count": 14,
   "metadata": {},
   "outputs": [
    {
     "data": {
      "text/plain": [
       "[63467,\n",
       " 44980,\n",
       " 165695,\n",
       " 6217,\n",
       " 95,\n",
       " 1580,\n",
       " 6530,\n",
       " 52341,\n",
       " 4,\n",
       " 1,\n",
       " 101914,\n",
       " 57,\n",
       " 165,\n",
       " 110,\n",
       " 3034,\n",
       " 4585]"
      ]
     },
     "execution_count": 14,
     "metadata": {},
     "output_type": "execute_result"
    }
   ],
   "source": [
    "codeCityMotifCounts[cityCode['Москва']]['triplets']"
   ]
  },
  {
   "cell_type": "markdown",
   "metadata": {
    "colab_type": "text",
    "id": "IyLW-jCoKval"
   },
   "source": [
    "## Сформируем матрицу признаков вершин"
   ]
  },
  {
   "cell_type": "code",
   "execution_count": 15,
   "metadata": {
    "colab": {
     "base_uri": "https://localhost:8080/",
     "height": 1000
    },
    "colab_type": "code",
    "id": "GqYP1Q4ce_8U",
    "outputId": "06fa12bc-f9ee-4acd-df28-06e6f7ff3274"
   },
   "outputs": [],
   "source": [
    "X = []\n",
    "for item in range(len(codeCityMotifCounts)):\n",
    "    X.append(codeCityMotifCounts[item+1]['triplets'])"
   ]
  },
  {
   "cell_type": "markdown",
   "metadata": {
    "colab_type": "text",
    "id": "81CXe5QhsHXb"
   },
   "source": [
    "# Ёё-то мы и будем сворачивать \n",
    "способом предложенным https://tkipf.github.io/graph-convolutional-networks/\n",
    "и методом, предложенным @iggisv9t (картинка - для понимания происходящего,только учтите, что **у нас выборка равна множеству соседей**)\n",
    "\n",
    "![alt text](https://habrastorage.org/webt/fe/d5/xt/fed5xts6of3j6ooup-8vtahflfc.gif)"
   ]
  },
  {
   "cell_type": "code",
   "execution_count": 16,
   "metadata": {
    "colab": {},
    "colab_type": "code",
    "id": "2pePR3v2-HGN"
   },
   "outputs": [],
   "source": [
    "def get_normalized_laplacian(Graph):\n",
    "\n",
    "    '''\n",
    "    Returns normalized laplacian given graph\n",
    "    '''\n",
    "    #########################################################\n",
    "    A = nx.adjacency_matrix(Graph)\n",
    "    D = (csgraph.laplacian(A, normed=True))\n",
    "\n",
    "    return D\n",
    "\n",
    "    #########################################################\n",
    "\n",
    "\n",
    "def roll_x(X, D):\n",
    "    '''\n",
    "    Performs Graph Convolution for a single layer\n",
    "    \n",
    "    Parameters:\n",
    "    \n",
    "    X - node features\n",
    "    D - normalized laplacian\n",
    "\n",
    "    IMPORTANT NOTE: UNLESS WE ADD WEIGHTS, PERFORMS\n",
    "    STACKING OF NEIGHBOR FEATURES ~SAME AS ROL-X  \n",
    "    \n",
    "    Returns:\n",
    "    \n",
    "    X - node features concatenated with pooled neighborhood info\n",
    "    \n",
    "    '''\n",
    "    #########################################################\n",
    "    \n",
    "    shape1 = X.shape[1]\n",
    "    # convolution\n",
    "    X = np.hstack((X, (D @ X[:, -shape1:])))\n",
    "    \n",
    "    return X\n",
    "\n",
    "    #########################################################\n",
    "\n",
    "\n",
    "def graph_convolution(X, D, relu='on'):\n",
    "    '''\n",
    "    Performs Graph Convolution for a single layer\n",
    "    \n",
    "    Parameters:\n",
    "    \n",
    "    X - node features\n",
    "    D - normalized laplacian\n",
    "    relu - non-linear activation, just turn it off for the output layer\n",
    "    \n",
    "    Returns:\n",
    "    \n",
    "    X - node features concatenated with pooled neighborhood info\n",
    "    \n",
    "    '''\n",
    "    #########################################################\n",
    "    \n",
    "    shape1 = X.shape[1]\n",
    "    # random weights\n",
    "    W = np.random.rand(shape1,5)*2 - 1\n",
    "    # convolution\n",
    "    Xc = D @ X @ W\n",
    "    # ReLU\n",
    "    if relu == 'on':\n",
    "        Xc = Xc * (Xc>0)\n",
    "    # combine input & convoluted features\n",
    "    X = np.hstack((X, Xc))\n",
    "    \n",
    "    return X\n",
    "\n",
    "    #########################################################\n"
   ]
  },
  {
   "cell_type": "markdown",
   "metadata": {
    "colab_type": "text",
    "id": "4kPki_RDzFt4"
   },
   "source": [
    "## Случай первый - линейный\n",
    "механика работы графовой свёрточной сети - сбор свойств окружающих вершин - тот же самый алгоритм RolX (https://web.eecs.umich.edu/~dkoutra/papers/12-kdd-recursiverole.pdf)"
   ]
  },
  {
   "cell_type": "code",
   "execution_count": 32,
   "metadata": {
    "colab": {
     "base_uri": "https://localhost:8080/",
     "height": 459
    },
    "colab_type": "code",
    "id": "h4uIlpbMAm9W",
    "outputId": "73df24af-9591-419f-c550-3030e8aac28e"
   },
   "outputs": [
    {
     "data": {
      "text/plain": [
       "array([ 6.34670000e+04,  4.49800000e+04,  1.65695000e+05,  6.21700000e+03,\n",
       "        9.50000000e+01,  1.58000000e+03,  6.53000000e+03,  5.23410000e+04,\n",
       "        4.00000000e+00,  1.00000000e+00,  1.01914000e+05,  5.70000000e+01,\n",
       "        1.65000000e+02,  1.10000000e+02,  3.03400000e+03,  4.58500000e+03,\n",
       "       -4.39268220e+06, -3.90473159e+04,  6.02978052e+04,  5.34585841e+03,\n",
       "       -2.13849860e+02,  7.73727184e+02,  4.42627617e+03,  4.71804980e+04,\n",
       "       -2.66004946e+01, -8.67069543e+00,  9.43010737e+04,  3.80965214e+00,\n",
       "        9.59746226e+01, -1.24445138e+00,  2.48035918e+03,  4.00837139e+03,\n",
       "       -4.39268220e+06, -3.90473159e+04,  6.02978052e+04,  5.34585841e+03,\n",
       "       -2.13849860e+02,  7.73727184e+02,  4.42627617e+03,  4.71804980e+04,\n",
       "       -2.66004946e+01, -8.67069543e+00,  9.43010737e+04,  3.80965214e+00,\n",
       "        9.59746226e+01, -1.24445138e+00,  2.48035918e+03,  4.00837139e+03,\n",
       "       -7.46764220e+06, -5.40580183e+04,  9.07479495e+04,  6.08922930e+03,\n",
       "       -1.53668698e+02,  1.10618784e+03,  6.37885162e+03,  5.51987290e+04,\n",
       "       -1.71148441e+01, -6.18211456e+00,  1.12583113e+05,  4.95703142e+01,\n",
       "        1.67426747e+02,  9.38261058e+01,  3.55122762e+03,  5.72675296e+03,\n",
       "       -4.39268220e+06, -3.90473159e+04,  6.02978052e+04,  5.34585841e+03,\n",
       "       -2.13849860e+02,  7.73727184e+02,  4.42627617e+03,  4.71804980e+04,\n",
       "       -2.66004946e+01, -8.67069543e+00,  9.43010737e+04,  3.80965214e+00,\n",
       "        9.59746226e+01, -1.24445138e+00,  2.48035918e+03,  4.00837139e+03,\n",
       "       -7.46764220e+06, -5.40580183e+04,  9.07479495e+04,  6.08922930e+03,\n",
       "       -1.53668698e+02,  1.10618784e+03,  6.37885162e+03,  5.51987290e+04,\n",
       "       -1.71148441e+01, -6.18211456e+00,  1.12583113e+05,  4.95703142e+01,\n",
       "        1.67426747e+02,  9.38261058e+01,  3.55122762e+03,  5.72675296e+03,\n",
       "       -7.46764220e+06, -5.40580183e+04,  9.07479495e+04,  6.08922930e+03,\n",
       "       -1.53668698e+02,  1.10618784e+03,  6.37885162e+03,  5.51987290e+04,\n",
       "       -1.71148441e+01, -6.18211456e+00,  1.12583113e+05,  4.95703142e+01,\n",
       "        1.67426747e+02,  9.38261058e+01,  3.55122762e+03,  5.72675296e+03,\n",
       "       -1.14511914e+07, -7.60277960e+04,  1.38374220e+05,  7.53369001e+03,\n",
       "       -1.20631456e+02,  1.54732304e+03,  9.16077202e+03,  6.97621420e+04,\n",
       "       -1.18306965e+01, -5.17057671e+00,  1.44511912e+05,  1.01875505e+02,\n",
       "        2.61642321e+02,  2.03636706e+02,  5.10052554e+03,  8.27166583e+03])"
      ]
     },
     "execution_count": 32,
     "metadata": {},
     "output_type": "execute_result"
    }
   ],
   "source": [
    "D = get_normalized_laplacian(G)\n",
    "Xl = np.array(X)\n",
    "\n",
    "for i in range(3):\n",
    "    Xl = roll_x(Xl, D)\n",
    "\n",
    "# индексация в матрице связности отличается на -1\n",
    "Xl[cityCode['Москва']-1]"
   ]
  },
  {
   "cell_type": "markdown",
   "metadata": {
    "colab_type": "text",
    "id": "rnIb4e-kSyNr"
   },
   "source": [
    "### Посмотрим, кластеризуются ли полученные вектора\n",
    "и сколько структурных ролей можно выделить"
   ]
  },
  {
   "cell_type": "code",
   "execution_count": 33,
   "metadata": {
    "colab": {
     "base_uri": "https://localhost:8080/",
     "height": 281
    },
    "colab_type": "code",
    "id": "-mcHtCVnDK_V",
    "outputId": "20315f7c-a383-4092-f14e-520fd46a9646"
   },
   "outputs": [
    {
     "data": {
      "image/png": "[encoded data removed]",
      "text/plain": [
       "<Figure size 432x288 with 1 Axes>"
      ]
     },
     "metadata": {
      "needs_background": "light"
     },
     "output_type": "display_data"
    }
   ],
   "source": [
    "def compactness_check(XXX):\n",
    "    inertia = []\n",
    "    for k in range(1, 20):\n",
    "        kmeans = KMeans(n_clusters=k, random_state=42).fit(XXX)\n",
    "        inertia.append(np.sqrt(kmeans.inertia_))\n",
    "\n",
    "    plt.plot(range(1, 20), inertia, marker='s');\n",
    "    plt.xlabel('$k$')\n",
    "    plt.ylabel('$J(C_k)$');\n",
    "\n",
    "compactness_check(Xl)"
   ]
  },
  {
   "cell_type": "code",
   "execution_count": 34,
   "metadata": {
    "colab": {
     "base_uri": "https://localhost:8080/",
     "height": 265
    },
    "colab_type": "code",
    "id": "b7jyi3G5BGjP",
    "outputId": "580d58ff-37e1-442e-f25b-4e4b4d50970d"
   },
   "outputs": [
    {
     "data": {
      "image/png": "[encoded data removed]",
      "text/plain": [
       "<Figure size 432x288 with 1 Axes>"
      ]
     },
     "metadata": {
      "needs_background": "light"
     },
     "output_type": "display_data"
    }
   ],
   "source": [
    "CLUSTERS = 10\n",
    "tsne = TSNE(random_state=42)\n",
    "tsne_representation = tsne.fit_transform(Xl)\n",
    "y_pred = KMeans(n_clusters=CLUSTERS, random_state=42).fit_predict(Xl)\n",
    "plt.scatter(tsne_representation[:, 0], tsne_representation[:, 1], c=y_pred);"
   ]
  },
  {
   "cell_type": "markdown",
   "metadata": {
    "colab_type": "text",
    "id": "m69A1JG7AVHU"
   },
   "source": [
    "### Посмотрим, что там за кластера получились\n",
    "(самые небольшие по размеру)"
   ]
  },
  {
   "cell_type": "code",
   "execution_count": 35,
   "metadata": {
    "colab": {
     "base_uri": "https://localhost:8080/",
     "height": 88
    },
    "colab_type": "code",
    "id": "kEJGr1Jx-aF7",
    "outputId": "cc5ff70a-e16e-4019-af54-b886116fdf66"
   },
   "outputs": [
    {
     "name": "stdout",
     "output_type": "stream",
     "text": [
      "['Санкт-Петербург', 'Екатеринбург']\n",
      "['Омск', 'Псков', 'Нижний Новгород', 'Петрозаводск', 'Самара', 'Рязань', 'Вологда', 'Казань', 'Владимир', 'Саратов', 'Воронеж', 'Краснодар', 'Великие Луки', 'Тюмень', 'Хабаровск', 'Ярославль', 'Иркутск', 'Смоленск', 'Уфа', 'Новосибирск', 'Владивосток', 'Иваново', 'Волгоград']\n",
      "['Москва']\n",
      "['Ростов-на-Дону', 'Тверь', 'Калуга', 'Красноярск', 'Челябинск', 'Пермь', 'Якутск']\n",
      "['Нижний Тагил', 'Белгород', 'Астрахань', 'Киров', 'Дубна', 'Бийск', 'Нижневартовск', 'Пятигорск', 'Пыть-Ях', 'Пенза', 'Волжский', 'Златоуст', 'Улан-Удэ', 'Новгород Великий', 'Уссурийск', 'Комсомольск-на-Амуре', 'Сочи', 'Ижевск', 'Адлер', 'Мытищи', 'Томск', 'Минеральные Воды', 'Чита', 'Ставрополь', 'Сургут', 'Ноглики', 'Барнаул']\n"
     ]
    }
   ],
   "source": [
    "cityCodeCluster = {x: [] for x in range(CLUSTERS)}\n",
    "\n",
    "for item in range(1, len(cityCode) + 1):\n",
    "    cityCodeCluster[y_pred[item-1]].append(codeCity[item]) \n",
    "\n",
    "for item in cityCodeCluster:\n",
    "    if len(cityCodeCluster[item]) < 30:\n",
    "        print(cityCodeCluster[item])"
   ]
  },
  {
   "cell_type": "markdown",
   "metadata": {
    "colab_type": "text",
    "id": "dTkxOVsYA60d"
   },
   "source": [
    "## Случай второй - добавим нелинейности\n",
    "и получим более компактные представления вершин-городов"
   ]
  },
  {
   "cell_type": "code",
   "execution_count": 36,
   "metadata": {
    "colab": {
     "base_uri": "https://localhost:8080/",
     "height": 136
    },
    "colab_type": "code",
    "id": "cHatyrDgBLYU",
    "outputId": "b2da11e8-271d-43a5-89ff-738f551e0141"
   },
   "outputs": [
    {
     "data": {
      "text/plain": [
       "array([ 0.33920692,  0.32864563,  0.36864304,  0.26794295,  0.13968784,\n",
       "        0.22592312,  0.26944967,  0.33329472,  0.04252387,  0.        ,\n",
       "        0.35373464,  0.12401852,  0.15662226,  0.14418482,  0.24593691,\n",
       "        0.25860265,  0.36092608,  2.2379091 , -0.        ,  5.88340548,\n",
       "        1.76551148, -0.        , -0.        , -0.        , -0.        ,\n",
       "       -0.        ,  1.23137841,  6.72582189,  4.24940368, -8.72883863,\n",
       "        8.89067567])"
      ]
     },
     "execution_count": 36,
     "metadata": {},
     "output_type": "execute_result"
    }
   ],
   "source": [
    "Xn = np.array(X)\n",
    "\n",
    "# подготовим данные в виде приятном для нейронок\n",
    "Xn = xlogy(np.sign(Xn), Xn) / np.log(2)\n",
    "Xn = Normalizer().fit_transform(Xn)\n",
    "\n",
    "for i in range(2):\n",
    "    Xn = graph_convolution(Xn, D)\n",
    "Xn = graph_convolution(Xn, D, relu='off')\n",
    "\n",
    "# индексация в матрице связности отличается на -1\n",
    "Xn[cityCode['Москва']-1]"
   ]
  },
  {
   "cell_type": "markdown",
   "metadata": {
    "colab_type": "text",
    "id": "xBtRWMde5sK8"
   },
   "source": [
    "#### Обратите внимание:\n",
    "последние 5 колонок - результат трёх слоёв свёртки - наши эмбеддинги"
   ]
  },
  {
   "cell_type": "code",
   "execution_count": 37,
   "metadata": {
    "colab": {
     "base_uri": "https://localhost:8080/",
     "height": 51
    },
    "colab_type": "code",
    "id": "Xo6rmogQ5cZJ",
    "outputId": "cf0ae183-79f8-464f-e3a3-6480cb16eea2"
   },
   "outputs": [
    {
     "data": {
      "text/plain": [
       "array([ 1.23137841,  6.72582189,  4.24940368, -8.72883863,  8.89067567])"
      ]
     },
     "execution_count": 37,
     "metadata": {},
     "output_type": "execute_result"
    }
   ],
   "source": [
    "Xt = Xn[:, -5:]\n",
    "Xt[cityCode['Москва']-1]"
   ]
  },
  {
   "cell_type": "code",
   "execution_count": 38,
   "metadata": {
    "colab": {
     "base_uri": "https://localhost:8080/",
     "height": 281
    },
    "colab_type": "code",
    "id": "-WnlZsRvGTQT",
    "outputId": "34e35965-d337-4ea0-99fa-e29fdf3b3ac4"
   },
   "outputs": [
    {
     "data": {
      "image/png": "[encoded data removed]",
      "text/plain": [
       "<Figure size 432x288 with 1 Axes>"
      ]
     },
     "metadata": {
      "needs_background": "light"
     },
     "output_type": "display_data"
    }
   ],
   "source": [
    "compactness_check(Xn)"
   ]
  },
  {
   "cell_type": "code",
   "execution_count": 39,
   "metadata": {
    "colab": {
     "base_uri": "https://localhost:8080/",
     "height": 265
    },
    "colab_type": "code",
    "id": "7MR07VsRHDp3",
    "outputId": "e2f62dfc-770b-41f3-8fe6-272ca2964210"
   },
   "outputs": [
    {
     "data": {
      "image/png": "[encoded data removed]",
      "text/plain": [
       "<Figure size 432x288 with 1 Axes>"
      ]
     },
     "metadata": {
      "needs_background": "light"
     },
     "output_type": "display_data"
    }
   ],
   "source": [
    "CLUSTERS = 10\n",
    "tsne = TSNE(random_state=42)\n",
    "tsne_representation = tsne.fit_transform(Xn)\n",
    "y_pred = KMeans(n_clusters=CLUSTERS, random_state=42).fit_predict(Xn)\n",
    "plt.scatter(tsne_representation[:, 0], tsne_representation[:, 1], c=y_pred);"
   ]
  },
  {
   "cell_type": "code",
   "execution_count": 40,
   "metadata": {
    "colab": {
     "base_uri": "https://localhost:8080/",
     "height": 71
    },
    "colab_type": "code",
    "id": "KExVahqeG0av",
    "outputId": "2165cce7-5494-461e-a243-82424a60a5d3"
   },
   "outputs": [
    {
     "name": "stdout",
     "output_type": "stream",
     "text": [
      "['Москва']\n",
      "['Ростов-на-Дону', 'Тверь', 'Калуга', 'Красноярск', 'Санкт-Петербург', 'Челябинск', 'Екатеринбург', 'Пермь', 'Якутск', 'Иваново']\n"
     ]
    }
   ],
   "source": [
    "cityCodeCluster = {x: [] for x in range(CLUSTERS)}\n",
    "cityCodeVector = {}\n",
    "\n",
    "for item in range(1,len(cityCode)+1):\n",
    "    cityCodeCluster[y_pred[item-1]].append(codeCity[item]) \n",
    "    cityCodeVector[item] = Xn[item-1]\n",
    "\n",
    "for item in cityCodeCluster:\n",
    "    if len(cityCodeCluster[item]) < 40:\n",
    "        print(cityCodeCluster[item])"
   ]
  },
  {
   "cell_type": "markdown",
   "metadata": {
    "colab_type": "text",
    "id": "9IOaFgG06GNq"
   },
   "source": [
    "### Оценим, как эти вектора разделяют города и веси"
   ]
  },
  {
   "cell_type": "code",
   "execution_count": 41,
   "metadata": {
    "colab": {
     "base_uri": "https://localhost:8080/",
     "height": 281
    },
    "colab_type": "code",
    "id": "vlJY3KdS6FTn",
    "outputId": "e55d73b1-0b45-4d86-cfc0-5edc08dcfde1"
   },
   "outputs": [
    {
     "data": {
      "image/png": "[encoded data removed]",
      "text/plain": [
       "<Figure size 432x288 with 1 Axes>"
      ]
     },
     "metadata": {
      "needs_background": "light"
     },
     "output_type": "display_data"
    }
   ],
   "source": [
    "compactness_check(Xt)"
   ]
  },
  {
   "cell_type": "code",
   "execution_count": 42,
   "metadata": {
    "colab": {
     "base_uri": "https://localhost:8080/",
     "height": 265
    },
    "colab_type": "code",
    "id": "uz5ep4QF6QHr",
    "outputId": "e5c7e9cf-a031-4ea6-fbe4-eb48594b94aa"
   },
   "outputs": [
    {
     "data": {
      "image/png": "[encoded data removed]",
      "text/plain": [
       "<Figure size 432x288 with 1 Axes>"
      ]
     },
     "metadata": {
      "needs_background": "light"
     },
     "output_type": "display_data"
    }
   ],
   "source": [
    "CLUSTERS = 7\n",
    "tsne = TSNE(random_state=42)\n",
    "tsne_representation = tsne.fit_transform(Xt)\n",
    "y_pred = KMeans(n_clusters=CLUSTERS, random_state=42).fit_predict(Xt)\n",
    "plt.scatter(tsne_representation[:, 0], tsne_representation[:, 1], c=y_pred);"
   ]
  },
  {
   "cell_type": "code",
   "execution_count": 43,
   "metadata": {
    "colab": {
     "base_uri": "https://localhost:8080/",
     "height": 71
    },
    "colab_type": "code",
    "id": "q5IN7HfJ6YaD",
    "outputId": "617590cd-38f5-48ec-f5b7-5ffbca595494"
   },
   "outputs": [
    {
     "name": "stdout",
     "output_type": "stream",
     "text": [
      "['Москва']\n",
      "['Псков', 'Петрозаводск', 'Ростов-на-Дону', 'Нижний Тагил', 'Тверь', 'Казань', 'Владимир', 'Калуга', 'Красноярск', 'Санкт-Петербург', 'Челябинск', 'Екатеринбург', 'Смоленск', 'Пермь', 'Якутск', 'Владивосток', 'Иваново']\n"
     ]
    }
   ],
   "source": [
    "cityCodeCluster = {x: [] for x in range(CLUSTERS)}\n",
    "cityCodeVector = {}\n",
    "\n",
    "for item in range(1,len(cityCode)+1):\n",
    "    cityCodeCluster[y_pred[item-1]].append(codeCity[item]) \n",
    "    cityCodeVector[item] = Xt[item-1]\n",
    "\n",
    "for item in cityCodeCluster:\n",
    "    if len(cityCodeCluster[item]) < 40:\n",
    "        print(cityCodeCluster[item])"
   ]
  },
  {
   "cell_type": "markdown",
   "metadata": {
    "colab_type": "text",
    "id": "1fj-32mSIQpk"
   },
   "source": [
    "### В результате мы получили два набора векторов свойств, приводящих к похожим результатам кластеризации\n",
    "Теперь можно провести операцию пулинга и рассуждать о подобии социо-экономической структуры регионов, построенной из потоков пассажироперевозок"
   ]
  },
  {
   "cell_type": "code",
   "execution_count": 44,
   "metadata": {
    "colab": {
     "base_uri": "https://localhost:8080/",
     "height": 204
    },
    "colab_type": "code",
    "id": "PDnxdcrMK5NH",
    "outputId": "f5427333-a6e6-4abb-8eb3-db44f70a62fc"
   },
   "outputs": [
    {
     "data": {
      "text/html": [
       "<div>\n",
       "<style scoped>\n",
       "    .dataframe tbody tr th:only-of-type {\n",
       "        vertical-align: middle;\n",
       "    }\n",
       "\n",
       "    .dataframe tbody tr th {\n",
       "        vertical-align: top;\n",
       "    }\n",
       "\n",
       "    .dataframe thead th {\n",
       "        text-align: right;\n",
       "    }\n",
       "</style>\n",
       "<table border=\"1\" class=\"dataframe\">\n",
       "  <thead>\n",
       "    <tr style=\"text-align: right;\">\n",
       "      <th></th>\n",
       "      <th>Code</th>\n",
       "      <th>City</th>\n",
       "      <th>Region</th>\n",
       "      <th>County</th>\n",
       "      <th>FeatureVectorGlobal</th>\n",
       "    </tr>\n",
       "  </thead>\n",
       "  <tbody>\n",
       "    <tr>\n",
       "      <th>0</th>\n",
       "      <td>1</td>\n",
       "      <td>Котово</td>\n",
       "      <td>Volgograd</td>\n",
       "      <td>NaN</td>\n",
       "      <td>[0.17307256719160413, -0.6279161885570755, -0....</td>\n",
       "    </tr>\n",
       "    <tr>\n",
       "      <th>1</th>\n",
       "      <td>2</td>\n",
       "      <td>Урюпинск</td>\n",
       "      <td>Volgograd</td>\n",
       "      <td>NaN</td>\n",
       "      <td>[0.6755055568858944, -0.5905376042216404, -0.4...</td>\n",
       "    </tr>\n",
       "    <tr>\n",
       "      <th>2</th>\n",
       "      <td>3</td>\n",
       "      <td>Артышта</td>\n",
       "      <td>Kemerovo</td>\n",
       "      <td>Krasnobrodskiy</td>\n",
       "      <td>[1.7911996564196946, -0.36107208450814526, -0....</td>\n",
       "    </tr>\n",
       "    <tr>\n",
       "      <th>3</th>\n",
       "      <td>4</td>\n",
       "      <td>Новоуральск</td>\n",
       "      <td>Sverdlovsk</td>\n",
       "      <td>NaN</td>\n",
       "      <td>[-0.18077883319828839, -0.3307792000604778, -0...</td>\n",
       "    </tr>\n",
       "    <tr>\n",
       "      <th>4</th>\n",
       "      <td>5</td>\n",
       "      <td>Харовск</td>\n",
       "      <td>Vologda</td>\n",
       "      <td>NaN</td>\n",
       "      <td>[0.07320745669198564, -0.6796503471004117, -0....</td>\n",
       "    </tr>\n",
       "  </tbody>\n",
       "</table>\n",
       "</div>"
      ],
      "text/plain": [
       "   Code         City      Region          County  \\\n",
       "0     1       Котово   Volgograd             NaN   \n",
       "1     2     Урюпинск   Volgograd             NaN   \n",
       "2     3      Артышта    Kemerovo  Krasnobrodskiy   \n",
       "3     4  Новоуральск  Sverdlovsk             NaN   \n",
       "4     5      Харовск     Vologda             NaN   \n",
       "\n",
       "                                 FeatureVectorGlobal  \n",
       "0  [0.17307256719160413, -0.6279161885570755, -0....  \n",
       "1  [0.6755055568858944, -0.5905376042216404, -0.4...  \n",
       "2  [1.7911996564196946, -0.36107208450814526, -0....  \n",
       "3  [-0.18077883319828839, -0.3307792000604778, -0...  \n",
       "4  [0.07320745669198564, -0.6796503471004117, -0....  "
      ]
     },
     "execution_count": 44,
     "metadata": {},
     "output_type": "execute_result"
    }
   ],
   "source": [
    "SR = df[['sourceId', 'source_region']].groupby('sourceId').first().to_dict()['source_region']\n",
    "TR = df[['targetId', 'target_region']].groupby('targetId').first().to_dict()['target_region']\n",
    "SC = df[['sourceId', 'source_county']].groupby('sourceId').first().to_dict()['source_county']\n",
    "TC = df[['targetId', 'target_county']].groupby('targetId').first().to_dict()['target_county']\n",
    "\n",
    "cities = []\n",
    "\n",
    "for item in range(1,len(codeCity)+1):\n",
    "    cities.append((item, codeCity[item]))\n",
    "\n",
    "cf = pd.DataFrame(cities, columns=['Code', 'City'])\n",
    "\n",
    "cf['Region'] = cf['Code'].map(SR)\n",
    "cf['Region'] = cf['Code'].map(TR)\n",
    "\n",
    "cf['County'] = cf['Code'].map(SC)\n",
    "cf['County'] = cf['Code'].map(TC)\n",
    "\n",
    "cf['FeatureVectorGlobal'] = cf['Code'].map(cityCodeVector)\n",
    "\n",
    "cf.head()"
   ]
  },
  {
   "cell_type": "code",
   "execution_count": 45,
   "metadata": {
    "colab": {
     "base_uri": "https://localhost:8080/",
     "height": 204
    },
    "colab_type": "code",
    "id": "zuhVmB6JQUJo",
    "outputId": "a8eadf6e-196a-439d-9635-12bb78473d8f"
   },
   "outputs": [
    {
     "data": {
      "text/html": [
       "<div>\n",
       "<style scoped>\n",
       "    .dataframe tbody tr th:only-of-type {\n",
       "        vertical-align: middle;\n",
       "    }\n",
       "\n",
       "    .dataframe tbody tr th {\n",
       "        vertical-align: top;\n",
       "    }\n",
       "\n",
       "    .dataframe thead th {\n",
       "        text-align: right;\n",
       "    }\n",
       "</style>\n",
       "<table border=\"1\" class=\"dataframe\">\n",
       "  <thead>\n",
       "    <tr style=\"text-align: right;\">\n",
       "      <th></th>\n",
       "      <th>Code</th>\n",
       "      <th>City</th>\n",
       "      <th>Region</th>\n",
       "      <th>County</th>\n",
       "      <th>FeatureVectorGlobal</th>\n",
       "      <th>RegionFeatureVectorGlobal</th>\n",
       "    </tr>\n",
       "  </thead>\n",
       "  <tbody>\n",
       "    <tr>\n",
       "      <th>0</th>\n",
       "      <td>1</td>\n",
       "      <td>Котово</td>\n",
       "      <td>Volgograd</td>\n",
       "      <td>NaN</td>\n",
       "      <td>[0.17307256719160413, -0.6279161885570755, -0....</td>\n",
       "      <td>[0.3239832791769723, -0.36334931039222484, -0....</td>\n",
       "    </tr>\n",
       "    <tr>\n",
       "      <th>1</th>\n",
       "      <td>2</td>\n",
       "      <td>Урюпинск</td>\n",
       "      <td>Volgograd</td>\n",
       "      <td>NaN</td>\n",
       "      <td>[0.6755055568858944, -0.5905376042216404, -0.4...</td>\n",
       "      <td>[0.3239832791769723, -0.36334931039222484, -0....</td>\n",
       "    </tr>\n",
       "    <tr>\n",
       "      <th>2</th>\n",
       "      <td>3</td>\n",
       "      <td>Артышта</td>\n",
       "      <td>Kemerovo</td>\n",
       "      <td>Krasnobrodskiy</td>\n",
       "      <td>[1.7911996564196946, -0.36107208450814526, -0....</td>\n",
       "      <td>[0.04437273901390966, -0.26763842588088477, -0...</td>\n",
       "    </tr>\n",
       "    <tr>\n",
       "      <th>3</th>\n",
       "      <td>4</td>\n",
       "      <td>Новоуральск</td>\n",
       "      <td>Sverdlovsk</td>\n",
       "      <td>NaN</td>\n",
       "      <td>[-0.18077883319828839, -0.3307792000604778, -0...</td>\n",
       "      <td>[0.47130928308639763, -0.3642050722992479, -0....</td>\n",
       "    </tr>\n",
       "    <tr>\n",
       "      <th>4</th>\n",
       "      <td>5</td>\n",
       "      <td>Харовск</td>\n",
       "      <td>Vologda</td>\n",
       "      <td>NaN</td>\n",
       "      <td>[0.07320745669198564, -0.6796503471004117, -0....</td>\n",
       "      <td>[0.4485257568420204, -0.2876182180781788, -0.2...</td>\n",
       "    </tr>\n",
       "  </tbody>\n",
       "</table>\n",
       "</div>"
      ],
      "text/plain": [
       "   Code         City      Region          County  \\\n",
       "0     1       Котово   Volgograd             NaN   \n",
       "1     2     Урюпинск   Volgograd             NaN   \n",
       "2     3      Артышта    Kemerovo  Krasnobrodskiy   \n",
       "3     4  Новоуральск  Sverdlovsk             NaN   \n",
       "4     5      Харовск     Vologda             NaN   \n",
       "\n",
       "                                 FeatureVectorGlobal  \\\n",
       "0  [0.17307256719160413, -0.6279161885570755, -0....   \n",
       "1  [0.6755055568858944, -0.5905376042216404, -0.4...   \n",
       "2  [1.7911996564196946, -0.36107208450814526, -0....   \n",
       "3  [-0.18077883319828839, -0.3307792000604778, -0...   \n",
       "4  [0.07320745669198564, -0.6796503471004117, -0....   \n",
       "\n",
       "                           RegionFeatureVectorGlobal  \n",
       "0  [0.3239832791769723, -0.36334931039222484, -0....  \n",
       "1  [0.3239832791769723, -0.36334931039222484, -0....  \n",
       "2  [0.04437273901390966, -0.26763842588088477, -0...  \n",
       "3  [0.47130928308639763, -0.3642050722992479, -0....  \n",
       "4  [0.4485257568420204, -0.2876182180781788, -0.2...  "
      ]
     },
     "execution_count": 45,
     "metadata": {},
     "output_type": "execute_result"
    }
   ],
   "source": [
    "rf = cf[['Region', 'FeatureVectorGlobal']].groupby('Region').agg(list)\n",
    "regionVectors = {}\n",
    "\n",
    "for item in rf.itertuples():\n",
    "    Z = np.array(item[1])\n",
    "    regionVectors[item[0]] = list(np.average(Z, axis=0))\n",
    "\n",
    "cf['RegionFeatureVectorGlobal'] = cf['Region'].map(regionVectors)\n",
    "cf.head()"
   ]
  },
  {
   "cell_type": "code",
   "execution_count": null,
   "metadata": {},
   "outputs": [],
   "source": []
  }
 ],
 "metadata": {
  "colab": {
   "collapsed_sections": [],
   "name": "Копия блокнота \"covid19-tutu-007.ipynb\"",
   "provenance": []
  },
  "kernelspec": {
   "display_name": "Python 3",
   "language": "python",
   "name": "python3"
  },
  "language_info": {
   "codemirror_mode": {
    "name": "ipython",
    "version": 3
   },
   "file_extension": ".py",
   "mimetype": "text/x-python",
   "name": "python",
   "nbconvert_exporter": "python",
   "pygments_lexer": "ipython3",
   "version": "3.7.7"
  }
 },
 "nbformat": 4,
 "nbformat_minor": 1
}
